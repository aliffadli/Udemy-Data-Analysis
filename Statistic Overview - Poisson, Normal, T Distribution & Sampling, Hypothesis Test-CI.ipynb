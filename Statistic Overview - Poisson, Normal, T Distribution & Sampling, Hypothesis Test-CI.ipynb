{
 "cells": [
  {
   "cell_type": "markdown",
   "metadata": {},
   "source": [
    "Dokumentasi: \n",
    "https://nbviewer.jupyter.org/github/jmportilla/Statistics-Notes/blob/master/Poisson%20Distribution.ipynb\n",
    "\n",
    "Let's say a McDonald's has a lunch rush from 12:30pm to 1:00pm. From looking at customer sales from previous days, we know that on average 10 customers enter during 12:30pm to 1:00pm. What is the probability that exactly 7 customers enter during lunch rush? What is the probability that more than 10 customers arrive?\n",
    "\n",
    "Let's begin by thinking about how many customers we expect to come into McDonald's during lunch rush. Well we were actually already given that information, it's 10. This means that the mean is 10, then our expected value E(X)=10. In the Poisson distribution this is λ. So the mean = λ for a Poisson Distribution, it is the expected number of occurences over the specfied interval."
   ]
  },
  {
   "cell_type": "code",
   "execution_count": 4,
   "metadata": {},
   "outputs": [
    {
     "name": "stdout",
     "output_type": "stream",
     "text": [
      "There is a 9.01 % chance that exactly 7 customers show up at the lunch rush\n"
     ]
    }
   ],
   "source": [
    "# Note do not use lambda as an object name in python! It is already used for special lambda functions in Python!!\n",
    "\n",
    "#lambda dalam hal ini sama dengan mean \n",
    "lamb = 10 \n",
    "#k adalah jumlah muncul yang diinginkan\n",
    "k = 7 \n",
    "\n",
    "#set up e and factorial statement\n",
    "from math import exp\n",
    "from math import factorial\n",
    "\n",
    "#put the probability mass function\n",
    "prob = (lamb**k)*exp(-lamb)/factorial(k)\n",
    "\n",
    "print('There is a %2.2f %% chance that exactly 7 customers show up at the lunch rush' %(100*prob))"
   ]
  },
  {
   "cell_type": "code",
   "execution_count": 7,
   "metadata": {},
   "outputs": [
    {
     "name": "stdout",
     "output_type": "stream",
     "text": [
      "There is a 9.01 % chance that exactly 7 customers show up at the lunch rush\n",
      "The mean is 10.00\n"
     ]
    }
   ],
   "source": [
    "#Mencari PMF secara automatis\n",
    "from scipy.stats import poisson \n",
    "\n",
    "# Set our mean = 10\n",
    "mu = 10\n",
    "\n",
    "#nilai mu seharusnya sama dengan nilai yang didapat dengan menggunakan scipy di bawah\n",
    "mean, var = poisson.stats(mu)\n",
    "\n",
    "#calculate PMF \n",
    "odds_seven = poisson.pmf(7,mu)\n",
    "\n",
    "print('There is a %2.2f %% chance that exactly 7 customers show up at the lunch rush' %(100*odds_seven))\n",
    "\n",
    "#print the mean \n",
    "print('The mean is %2.2f' %mean)"
   ]
  },
  {
   "cell_type": "markdown",
   "metadata": {},
   "source": [
    "#### See entire distribution"
   ]
  },
  {
   "cell_type": "code",
   "execution_count": 11,
   "metadata": {},
   "outputs": [],
   "source": [
    "import numpy as np \n",
    "\n",
    "#melihat kemungkinan hingga 30 customer show up pada time interval \n",
    "k = np.arange(30)\n",
    "\n",
    "#mean dari time interval \n",
    "lamb = 10 \n",
    "\n",
    "#melihat pmf poisson dari masing2 nilai\n",
    "pmf_pois = poisson.pmf(k, lamb)\n",
    "\n",
    "#jika pmf_pois di-print maka akan menghasilkan list yang berisi pmf dari tiap nilai "
   ]
  },
  {
   "cell_type": "code",
   "execution_count": 12,
   "metadata": {},
   "outputs": [
    {
     "data": {
      "text/plain": [
       "<BarContainer object of 30 artists>"
      ]
     },
     "execution_count": 12,
     "metadata": {},
     "output_type": "execute_result"
    },
    {
     "data": {
      "image/png": "[encoded data removed]",
      "text/plain": [
       "<Figure size 432x288 with 1 Axes>"
      ]
     },
     "metadata": {
      "needs_background": "light"
     },
     "output_type": "display_data"
    }
   ],
   "source": [
    "#plot the pmf \n",
    "import matplotlib.pyplot as plt\n",
    "import seaborn as sns\n",
    "%matplotlib inline\n",
    "\n",
    "plt.bar(k, pmf_pois)"
   ]
  },
  {
   "cell_type": "markdown",
   "metadata": {},
   "source": [
    "What is the probability that more than 10 customers arrive?"
   ]
  },
  {
   "cell_type": "code",
   "execution_count": 16,
   "metadata": {},
   "outputs": [
    {
     "name": "stdout",
     "output_type": "stream",
     "text": [
      "The probability that 10 or less customers show up is 58.3 %.\n"
     ]
    }
   ],
   "source": [
    "#We need to sum up the value of every bar past 10 the 10 customers bar\n",
    "\n",
    "#We can do this by using a Cumulative Distribution Function (CDF)\n",
    "\n",
    "k, mu = 10,10 \n",
    "\n",
    "prob_up_to_ten = poisson.cdf(k,mu)\n",
    "\n",
    "print('The probability that 10 or less customers show up is %2.1f %%.' %(100*prob_up_to_ten))"
   ]
  },
  {
   "cell_type": "markdown",
   "metadata": {},
   "source": [
    "Now we can answer the question for more than 10 customers. It will be the remaining probability space"
   ]
  },
  {
   "cell_type": "code",
   "execution_count": 18,
   "metadata": {},
   "outputs": [
    {
     "name": "stdout",
     "output_type": "stream",
     "text": [
      "The probability that more than ten customers show up during lunch rush is 41.7 %.\n"
     ]
    }
   ],
   "source": [
    "prob_more_than_ten = 1 - prob_up_to_ten\n",
    "\n",
    "print('The probability that more than ten customers show up during lunch rush is %2.1f %%.' %(100*prob_more_than_ten))"
   ]
  },
  {
   "cell_type": "markdown",
   "metadata": {},
   "source": [
    "Dokumentasi tambahan: \n",
    "\n",
    "1.)http://en.wikipedia.org/wiki/Poisson_distribution#Definition\n",
    "\n",
    "2.)http://stattrek.com/probability-distributions/poisson.aspx\n",
    "\n",
    "3.)http://docs.scipy.org/doc/scipy/reference/generated/scipy.stats.poisson.html"
   ]
  },
  {
   "cell_type": "markdown",
   "metadata": {},
   "source": [
    "### Normal Distribution"
   ]
  },
  {
   "cell_type": "markdown",
   "metadata": {},
   "source": [
    "Dokumentasi lengkap: \n",
    "https://nbviewer.jupyter.org/github/jmportilla/Statistics-Notes/blob/master/Normal%20Distribution.ipynb\n",
    "\n",
    "For the normal distribution, we can see what percentage of values lie between +/- a standard deviation. 68% of the values lie within 1 TSD, 95% between 2 STDs, and 99.7% between 3 STDs. The number of standard deviations is also called the z-score."
   ]
  },
  {
   "cell_type": "code",
   "execution_count": 19,
   "metadata": {},
   "outputs": [
    {
     "data": {
      "text/html": [
       "<img src=\"http://upload.wikimedia.org/wikipedia/commons/thumb/2/25/The_Normal_Distribution.svg/725px-The_Normal_Distribution.svg.png\"/>"
      ],
      "text/plain": [
       "<IPython.core.display.Image object>"
      ]
     },
     "execution_count": 19,
     "metadata": {},
     "output_type": "execute_result"
    }
   ],
   "source": [
    "#Penjelasan lebih lengkap mengenai normal distribution\n",
    "from IPython.display import Image\n",
    "Image(url='http://upload.wikimedia.org/wikipedia/commons/thumb/2/25/The_Normal_Distribution.svg/725px-The_Normal_Distribution.svg.png')"
   ]
  },
  {
   "cell_type": "markdown",
   "metadata": {},
   "source": [
    "Terlihat bahwa, memang Z scores merupakan number dari standard deviations. Tapi apa itu T-scores? Sepertinya kita akan mempelajarinya lagi nanti"
   ]
  },
  {
   "cell_type": "code",
   "execution_count": 26,
   "metadata": {},
   "outputs": [
    {
     "data": {
      "text/plain": [
       "[<matplotlib.lines.Line2D at 0x245379b6630>]"
      ]
     },
     "execution_count": 26,
     "metadata": {},
     "output_type": "execute_result"
    },
    {
     "data": {
      "image/png": "[encoded data removed]",
      "text/plain": [
       "<Figure size 432x288 with 1 Axes>"
      ]
     },
     "metadata": {
      "needs_background": "light"
     },
     "output_type": "display_data"
    }
   ],
   "source": [
    "#Use scipy to create normal distribution\n",
    "\n",
    "import matplotlib as mpl \n",
    "import matplotlib.pyplot as plt\n",
    "%matplotlib inline\n",
    "\n",
    "from scipy import stats\n",
    "\n",
    "mean = 0 \n",
    "std = 1\n",
    "\n",
    "#membuat nilai X \n",
    "#Dari -4 sampai dengan 4 dengan selisih 0.01 setiap bergerak\n",
    "X = np.arange(-4,4,0.01)\n",
    "\n",
    "Y = stats.norm.pdf(X,mean,std)\n",
    "\n",
    "plt.plot(X,Y)"
   ]
  },
  {
   "cell_type": "markdown",
   "metadata": {},
   "source": [
    "Now let's learn how to use numpy to create the normal distribution."
   ]
  },
  {
   "cell_type": "code",
   "execution_count": 36,
   "metadata": {},
   "outputs": [],
   "source": [
    "import numpy as np\n",
    "\n",
    "#set the mean and standard deviation\n",
    "mu, sigma = 0, 0.1\n",
    "\n",
    "# Now grab 1000 random numbers from the normal distribution\n",
    "norm_set = np.random.normal(mu,sigma,1000)"
   ]
  },
  {
   "cell_type": "code",
   "execution_count": 37,
   "metadata": {},
   "outputs": [
    {
     "data": {
      "text/plain": [
       "(array([ 1.,  0.,  0.,  2.,  2.,  1.,  2.,  0.,  8.,  7.,  8., 12., 11.,\n",
       "        12., 12., 18., 33., 32., 36., 45., 39., 50., 59., 56., 42., 43.,\n",
       "        45., 41., 58., 55., 34., 41., 33., 32., 18., 22., 26.,  9., 10.,\n",
       "        15.,  5.,  5.,  5.,  4.,  5.,  1.,  1.,  0.,  3.,  1.]),\n",
       " array([-0.33846797, -0.32526491, -0.31206184, -0.29885877, -0.28565571,\n",
       "        -0.27245264, -0.25924957, -0.2460465 , -0.23284344, -0.21964037,\n",
       "        -0.2064373 , -0.19323424, -0.18003117, -0.1668281 , -0.15362504,\n",
       "        -0.14042197, -0.1272189 , -0.11401584, -0.10081277, -0.0876097 ,\n",
       "        -0.07440664, -0.06120357, -0.0480005 , -0.03479744, -0.02159437,\n",
       "        -0.0083913 ,  0.00481176,  0.01801483,  0.0312179 ,  0.04442096,\n",
       "         0.05762403,  0.0708271 ,  0.08403017,  0.09723323,  0.1104363 ,\n",
       "         0.12363937,  0.13684243,  0.1500455 ,  0.16324857,  0.17645163,\n",
       "         0.1896547 ,  0.20285777,  0.21606083,  0.2292639 ,  0.24246697,\n",
       "         0.25567003,  0.2688731 ,  0.28207617,  0.29527923,  0.3084823 ,\n",
       "         0.32168537]),\n",
       " <a list of 50 Patch objects>)"
      ]
     },
     "execution_count": 37,
     "metadata": {},
     "output_type": "execute_result"
    },
    {
     "data": {
      "image/png": "[encoded data removed]",
      "text/plain": [
       "<Figure size 432x288 with 1 Axes>"
      ]
     },
     "metadata": {
      "needs_background": "light"
     },
     "output_type": "display_data"
    }
   ],
   "source": [
    "#plot it using seaborn \n",
    "import seaborn as sns\n",
    "\n",
    "plt.hist(norm_set, bins=50)"
   ]
  },
  {
   "cell_type": "code",
   "execution_count": 38,
   "metadata": {},
   "outputs": [
    {
     "data": {
      "text/plain": [
       "[<matplotlib.lines.Line2D at 0x245394a8be0>]"
      ]
     },
     "execution_count": 38,
     "metadata": {},
     "output_type": "execute_result"
    },
    {
     "data": {
      "image/png": "[encoded data removed]",
      "text/plain": [
       "<Figure size 432x288 with 1 Axes>"
      ]
     },
     "metadata": {
      "needs_background": "light"
     },
     "output_type": "display_data"
    }
   ],
   "source": [
    "#masih tidak mengetahui, kenapa kalau pakai pdf jadinya aneh? \n",
    "y = stats.norm.pdf(norm_set, mu, sigma)\n",
    "\n",
    "#terlihat sangat aneh\n",
    "plt.plot(norm_set, y)"
   ]
  },
  {
   "cell_type": "code",
   "execution_count": 39,
   "metadata": {},
   "outputs": [
    {
     "data": {
      "text/plain": [
       "(array([16., 16., 16., 16., 16., 16., 16., 16., 16., 16., 16., 16., 16.,\n",
       "        16., 16., 16., 16., 16., 16., 16., 16., 16., 16., 16., 16., 16.,\n",
       "        16., 16., 16., 16., 16., 16., 16., 16., 16., 16., 16., 16., 16.,\n",
       "        16., 16., 16., 16., 16., 16., 16., 16., 16., 16., 16.]),\n",
       " array([-4.    , -3.8402, -3.6804, -3.5206, -3.3608, -3.201 , -3.0412,\n",
       "        -2.8814, -2.7216, -2.5618, -2.402 , -2.2422, -2.0824, -1.9226,\n",
       "        -1.7628, -1.603 , -1.4432, -1.2834, -1.1236, -0.9638, -0.804 ,\n",
       "        -0.6442, -0.4844, -0.3246, -0.1648, -0.005 ,  0.1548,  0.3146,\n",
       "         0.4744,  0.6342,  0.794 ,  0.9538,  1.1136,  1.2734,  1.4332,\n",
       "         1.593 ,  1.7528,  1.9126,  2.0724,  2.2322,  2.392 ,  2.5518,\n",
       "         2.7116,  2.8714,  3.0312,  3.191 ,  3.3508,  3.5106,  3.6704,\n",
       "         3.8302,  3.99  ]),\n",
       " <a list of 50 Patch objects>)"
      ]
     },
     "execution_count": 39,
     "metadata": {},
     "output_type": "execute_result"
    },
    {
     "data": {
      "image/png": "[encoded data removed]",
      "text/plain": [
       "<Figure size 432x288 with 1 Axes>"
      ]
     },
     "metadata": {
      "needs_background": "light"
     },
     "output_type": "display_data"
    }
   ],
   "source": [
    "#pasti hasilnya sama lah, kan juga normal distribution\n",
    "plt.hist(X, bins=50)"
   ]
  },
  {
   "cell_type": "markdown",
   "metadata": {},
   "source": [
    "Masih perlu mempelajari lebih banyak mengenai Normal Distribution. Beberapa link yang membantu: \n",
    "\n",
    "1.)http://en.wikipedia.org/wiki/Uniform_distribution_%28continuous%29\n",
    "\n",
    "2.)http://docs.scipy.org/doc/scipy/reference/generated/scipy.stats.uniform.html\n",
    "\n",
    "3.)http://mathworld.wolfram.com/UniformDistribution.html"
   ]
  },
  {
   "cell_type": "markdown",
   "metadata": {},
   "source": [
    "#### Bahan bacaan untuk Sampling: \n",
    "\n",
    "1. https://nbviewer.jupyter.org/github/jmportilla/Statistics-Notes/blob/master/Sampling%20Techniques.ipynb\n",
    "2. https://docs.python.org/2/library/random.html\n",
    "3. https://en.wikipedia.org/wiki/Sampling_distribution"
   ]
  },
  {
   "cell_type": "markdown",
   "metadata": {},
   "source": [
    "### T Distribution"
   ]
  },
  {
   "cell_type": "markdown",
   "metadata": {},
   "source": [
    "Dokumentasi lengkap: \n",
    "https://nbviewer.jupyter.org/github/jmportilla/Statistics-Notes/blob/master/T%20Distribution%20%28Small%20Sampling%20Theory%29.ipynb"
   ]
  },
  {
   "cell_type": "markdown",
   "metadata": {},
   "source": [
    "The t-distribution allows for use of small samples, but does so by sacrificing certainty with a margin-of-error trade-off. "
   ]
  },
  {
   "cell_type": "markdown",
   "metadata": {},
   "source": [
    "The t-distribution takes into account the sample size using n-1 degrees of freedom, which means there is a different t-distribution for every different sample size. If we see the t-distribution against a normal distribution, you'll notice the tail ends increase as the peak get 'squished' down."
   ]
  },
  {
   "cell_type": "markdown",
   "metadata": {},
   "source": [
    "It's important to note, that as n gets larger, the t-distribution converges into a normal distribution."
   ]
  },
  {
   "cell_type": "code",
   "execution_count": 11,
   "metadata": {},
   "outputs": [
    {
     "data": {
      "text/plain": [
       "[<matplotlib.lines.Line2D at 0x18a2c782d68>]"
      ]
     },
     "execution_count": 11,
     "metadata": {},
     "output_type": "execute_result"
    },
    {
     "data": {
      "image/png": "[encoded data removed]",
      "text/plain": [
       "<Figure size 432x288 with 1 Axes>"
      ]
     },
     "metadata": {
      "needs_background": "light"
     },
     "output_type": "display_data"
    }
   ],
   "source": [
    "#Get t-distribution using python \n",
    "import matplotlib.pyplot as plt\n",
    "%matplotlib inline\n",
    "\n",
    "from scipy.stats import t\n",
    "\n",
    "import numpy as np\n",
    "\n",
    "# -5 dan 5 merupakan range, 100 merupakan adalah ada berapa banyak elemen yang kita inginkan\n",
    "# kalau kita print panjang dari x, maka akan menghasilkan 100\n",
    "x = np.linspace(-5,5,100)\n",
    "\n",
    "#3 merupakan degree of freedom? \n",
    "rv = t(3)\n",
    "\n",
    "plt.plot(x, rv.pdf(x))"
   ]
  },
  {
   "cell_type": "markdown",
   "metadata": {},
   "source": [
    "Resource tambahan: \n",
    "\n",
    "1.) http://en.wikipedia.org/wiki/Student%27s_t-distribution\n",
    "\n",
    "2.) http://mathworld.wolfram.com/Studentst-Distribution.html\n",
    "\n",
    "3.) http://stattrek.com/probability-distributions/t-distribution.aspx"
   ]
  },
  {
   "cell_type": "markdown",
   "metadata": {},
   "source": [
    "Sejauh ini saya masih belum mengerti mengapa t distribution membutuhkan degree of freedom, serta kenapa distribusi lain tidak membutuhkannya."
   ]
  },
  {
   "cell_type": "markdown",
   "metadata": {},
   "source": [
    "### Hypothesis Testing & Standard Distribution "
   ]
  },
  {
   "cell_type": "markdown",
   "metadata": {},
   "source": [
    "Dokumentasi: \n",
    "https://nbviewer.jupyter.org/github/jmportilla/Statistics-Notes/blob/master/Hypothesis%20Testing%20and%20Confidence%20Intervals.ipynb\n",
    "    \n",
    "Resource lebih lanjut: \n",
    "\n",
    "1.) https://en.wikipedia.org/wiki/Statistical_hypothesis_testing\n",
    "\n",
    "2.) https://stattrek.com/hypothesis-test/hypothesis-testing.aspx\n",
    "\n",
    "3.) https://mathworld.wolfram.com/HypothesisTesting.html\n",
    "\n",
    "4.) https://www.sagepub.com/sites/default/files/upm-binaries/40007_Chapter8.pdf"
   ]
  },
  {
   "cell_type": "code",
   "execution_count": null,
   "metadata": {},
   "outputs": [],
   "source": []
  }
 ],
 "metadata": {
  "kernelspec": {
   "display_name": "Python 3",
   "language": "python",
   "name": "python3"
  },
  "language_info": {
   "codemirror_mode": {
    "name": "ipython",
    "version": 3
   },
   "file_extension": ".py",
   "mimetype": "text/x-python",
   "name": "python",
   "nbconvert_exporter": "python",
   "pygments_lexer": "ipython3",
   "version": "3.7.3"
  }
 },
 "nbformat": 4,
 "nbformat_minor": 2
}
