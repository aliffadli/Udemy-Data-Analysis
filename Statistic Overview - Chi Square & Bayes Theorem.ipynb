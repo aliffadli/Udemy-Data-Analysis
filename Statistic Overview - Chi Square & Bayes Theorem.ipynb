{
 "cells": [
  {
   "cell_type": "markdown",
   "metadata": {},
   "source": [
    "### Chi Square"
   ]
  },
  {
   "cell_type": "markdown",
   "metadata": {},
   "source": [
    "Penjelasan Tutor: \n",
    "https://nbviewer.jupyter.org/github/jmportilla/Statistics-Notes/blob/master/Chi-Square.ipynb"
   ]
  },
  {
   "cell_type": "markdown",
   "metadata": {},
   "source": [
    "Let's go ahead and do an example problem. Say you are at a casino and are in charge of monitoring a craps(a dice game where two dice are rolled). You are suspcious that a player may have switched out the casino's dice for their own. How do we use the Chi-Square test to check whether or not this player is cheating?\n",
    "\n",
    "You will need some observations in order to begin. You begin to keep track of this player's roll outcomes.You record the next 500 rolls taking note of the sum of the dice roll result and the number of times it occurs.\n",
    "\n",
    "You record the following:\n",
    "\n",
    "Sum of Dice Roll\t2\t3\t4\t5\t6\t7\t8\t9\t10\t11\t12\n",
    "Number of Times Observed\t8\t32\t48\t59\t67\t84\t76\t57\t34\t28\t7\n",
    "Now we also know the espected frequency of these sums for a fair dice. That frequency distribution looks like this:\n",
    "\n",
    "Sum of Dice Roll\t2\t3\t4\t5\t6\t7\t8\t9\t10\t11\t12\n",
    "Expected Frequency\t1/36\t2/36\t3/36\t4/36\t5/36\t6/36\t5/36\t4/36\t3/36\t2/36\t1/36\n",
    "Now we can calculated the expected number of rolls by multiplying the expected frequency with the total sum of the rolls (500 rolls).\n",
    "\n"
   ]
  },
  {
   "cell_type": "code",
   "execution_count": 1,
   "metadata": {},
   "outputs": [
    {
     "data": {
      "text/plain": [
       "500"
      ]
     },
     "execution_count": 1,
     "metadata": {},
     "output_type": "execute_result"
    }
   ],
   "source": [
    "#Check the sum roles \n",
    "observed = [8,32,48,59,67,84,76,57,34,28,7]\n",
    "roll_sum = sum(observed)\n",
    "roll_sum"
   ]
  },
  {
   "cell_type": "code",
   "execution_count": 2,
   "metadata": {},
   "outputs": [
    {
     "data": {
      "text/plain": [
       "[0.027777777777777776,\n",
       " 0.05555555555555555,\n",
       " 0.08333333333333333,\n",
       " 0.1111111111111111,\n",
       " 0.1388888888888889,\n",
       " 0.16666666666666666,\n",
       " 0.1388888888888889,\n",
       " 0.1111111111111111,\n",
       " 0.08333333333333333,\n",
       " 0.05555555555555555,\n",
       " 0.027777777777777776]"
      ]
     },
     "execution_count": 2,
     "metadata": {},
     "output_type": "execute_result"
    }
   ],
   "source": [
    "#The expected frequency \n",
    "freq = [1,2,3,4,5,6,5,4,3,2,1]\n",
    "\n",
    "possible_rolls = 1/36\n",
    "\n",
    "freq = [possible_rolls*dice for dice in freq]\n",
    "\n",
    "freq"
   ]
  },
  {
   "cell_type": "code",
   "execution_count": 3,
   "metadata": {},
   "outputs": [
    {
     "data": {
      "text/plain": [
       "[13.888888888888888,\n",
       " 27.777777777777775,\n",
       " 41.666666666666664,\n",
       " 55.55555555555555,\n",
       " 69.44444444444444,\n",
       " 83.33333333333333,\n",
       " 69.44444444444444,\n",
       " 55.55555555555555,\n",
       " 41.666666666666664,\n",
       " 27.777777777777775,\n",
       " 13.888888888888888]"
      ]
     },
     "execution_count": 3,
     "metadata": {},
     "output_type": "execute_result"
    }
   ],
   "source": [
    "#menghitung dengan 500 kali putaran \n",
    "expected = [roll_sum * f for f in freq]\n",
    "expected"
   ]
  },
  {
   "cell_type": "code",
   "execution_count": 5,
   "metadata": {},
   "outputs": [
    {
     "name": "stdout",
     "output_type": "stream",
     "text": [
      "The chi-squared test statistic is 9.89\n",
      "The p-value for the test is 0.45\n"
     ]
    }
   ],
   "source": [
    "#menghitung chi square test dengan menggunakan scipy \n",
    "from scipy import stats\n",
    "\n",
    "#chisquare juga mengambil nilai p \n",
    "chisq, p = stats.chisquare(observed, expected)\n",
    "\n",
    "print('The chi-squared test statistic is %.2f' %chisq)\n",
    "print('The p-value for the test is %.2f' %p)"
   ]
  },
  {
   "cell_type": "markdown",
   "metadata": {},
   "source": [
    "Karena p-value lebih besar dari 0.05, hal ini menandakan bahwa penjudi tidak melakukan kecurangan"
   ]
  },
  {
   "cell_type": "markdown",
   "metadata": {},
   "source": [
    "Dokumetasi lebih lanjut mengenai chi-square:\n",
    "\n",
    "1. https://en.wikipedia.org/wiki/Chi-squared_test\n",
    "\n",
    "2. https://stattrek.com/chi-square-test/independence.aspx\n",
    "\n",
    "3. https://www.khanacademy.org/math/statistics-probability\n",
    "\n",
    "4. https://www.mathsisfun.com/data/chi-square-test.html (saya belajar dan pakai yang ini, tambahan dari saya)"
   ]
  },
  {
   "cell_type": "markdown",
   "metadata": {},
   "source": [
    "### Bayes Theorem"
   ]
  },
  {
   "cell_type": "markdown",
   "metadata": {},
   "source": [
    "Dokumentasi: \n",
    "\n",
    "https://nbviewer.jupyter.org/github/jmportilla/Statistics-Notes/blob/master/Bayes%27%20Theorem.ipynb"
   ]
  },
  {
   "cell_type": "markdown",
   "metadata": {},
   "source": [
    "Perlu belajar lagi tentang Bayes Theorem"
   ]
  },
  {
   "cell_type": "code",
   "execution_count": null,
   "metadata": {},
   "outputs": [],
   "source": []
  }
 ],
 "metadata": {
  "kernelspec": {
   "display_name": "Python 3",
   "language": "python",
   "name": "python3"
  },
  "language_info": {
   "codemirror_mode": {
    "name": "ipython",
    "version": 3
   },
   "file_extension": ".py",
   "mimetype": "text/x-python",
   "name": "python",
   "nbconvert_exporter": "python",
   "pygments_lexer": "ipython3",
   "version": "3.7.3"
  }
 },
 "nbformat": 4,
 "nbformat_minor": 2
}
