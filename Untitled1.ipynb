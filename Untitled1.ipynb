{
 "cells": [
  {
   "cell_type": "code",
   "execution_count": 1,
   "metadata": {},
   "outputs": [],
   "source": [
    "import numpy as np\n",
    "import pandas as pd\n",
    "import matplotlib.pyplot as plt"
   ]
  },
  {
   "cell_type": "code",
   "execution_count": 2,
   "metadata": {},
   "outputs": [],
   "source": [
    "#ls adalah directory yang kita pilih \n",
    "#ls"
   ]
  },
  {
   "cell_type": "code",
   "execution_count": 3,
   "metadata": {},
   "outputs": [
    {
     "data": {
      "text/plain": [
       "'C:\\\\Users\\\\HP'"
      ]
     },
     "execution_count": 3,
     "metadata": {},
     "output_type": "execute_result"
    }
   ],
   "source": [
    "pwd"
   ]
  },
  {
   "cell_type": "code",
   "execution_count": 4,
   "metadata": {},
   "outputs": [
    {
     "name": "stdout",
     "output_type": "stream",
     "text": [
      " Volume in drive C has no label.\n",
      " Volume Serial Number is 5EF6-41D4\n",
      "\n",
      " Directory of C:\\Users\\HP\n",
      "\n",
      "03/03/2020  03:50 PM    <DIR>          .\n",
      "03/03/2020  03:50 PM    <DIR>          ..\n",
      "09/30/2019  01:00 PM    <DIR>          .anaconda\n",
      "07/14/2019  03:10 PM    <DIR>          .android\n",
      "06/08/2019  05:28 PM    <DIR>          .AndroidStudio3.4\n",
      "02/24/2020  11:23 PM             4,147 .bash_history\n",
      "10/05/2019  04:37 PM                99 .bash_profile\n",
      "10/05/2019  04:55 PM               251 .bashrc\n",
      "09/30/2019  02:45 PM    <DIR>          .conda\n",
      "09/30/2019  01:02 PM                43 .condarc\n",
      "09/21/2019  06:16 PM    <DIR>          .config\n",
      "06/08/2019  06:37 PM                16 .emulator_console_auth_token\n",
      "09/11/2019  11:27 AM                62 .gitconfig\n",
      "06/08/2019  05:49 PM    <DIR>          .gradle\n",
      "04/18/2019  02:11 PM    <DIR>          .idlerc\n",
      "09/11/2019  07:29 PM    <DIR>          .IntelliJIdea2019.2\n",
      "03/02/2020  07:52 PM    <DIR>          .ipynb_checkpoints\n",
      "09/30/2019  01:02 PM    <DIR>          .ipython\n",
      "09/30/2019  01:05 PM    <DIR>          .jupyter\n",
      "09/07/2018  04:26 PM    <DIR>          .LINE\n",
      "09/11/2019  05:40 PM    <DIR>          .m2\n",
      "09/30/2019  01:40 PM    <DIR>          .matplotlib\n",
      "02/23/2020  09:25 PM                51 .node_repl_history\n",
      "10/11/2019  04:02 PM               182 .packettracer\n",
      "05/14/2019  07:48 PM                65 .pgAdmin4.3067296332.addr\n",
      "05/14/2019  07:48 PM                 0 .pgAdmin4.3067296332.log\n",
      "03/02/2020  07:50 PM                 7 .python_history\n",
      "09/07/2018  04:26 PM    <DIR>          .QtWebEngineProcess\n",
      "03/11/2019  07:06 PM    <DIR>          .spss\n",
      "05/14/2019  07:14 PM    <DIR>          .ssh\n",
      "10/02/2019  08:09 PM            17,584 .viminfo\n",
      "11/23/2019  03:55 PM    <DIR>          .VirtualBox\n",
      "02/24/2020  12:14 AM    <DIR>          .WebStorm2019.3\n",
      "12/28/2018  10:20 PM               198 _netrc\n",
      "03/13/2019  09:17 PM    <DIR>          3D Objects\n",
      "05/12/2019  02:15 PM        39,011,496 apachehttpd.exe\n",
      "10/11/2019  12:27 AM    <DIR>          Cisco Packet Tracer 6.2sv\n",
      "03/13/2019  09:17 PM    <DIR>          Contacts\n",
      "05/23/2019  06:15 PM    <DIR>          Creative Cloud Files\n",
      "10/01/2019  05:12 AM           303,008 Credit_cards.ipynb\n",
      "09/30/2019  01:16 PM    <DIR>          Data\n",
      "05/20/2019  02:34 PM                 0 db2018045.sql\n",
      "12/05/2019  08:35 PM    <DIR>          Desktop\n",
      "03/02/2020  04:50 PM    <DIR>          Documents\n",
      "03/03/2020  10:47 AM    <DIR>          Downloads\n",
      "03/13/2019  09:17 PM    <DIR>          Favorites\n",
      "03/02/2020  05:41 PM           397,367 HMEQ.csv\n",
      "09/11/2019  05:43 PM    <DIR>          IdeaProjects\n",
      "10/01/2019  09:47 AM           124,675 Latihan 3.ipynb\n",
      "10/01/2019  04:20 AM            35,734 Latihan3.ipynb\n",
      "03/13/2019  09:17 PM    <DIR>          Links\n",
      "03/13/2019  09:17 PM    <DIR>          Music\n",
      "09/30/2019  01:04 PM               818 MyFirstAnacondaNotebook.ipynb\n",
      "02/19/2020  10:28 PM    <DIR>          OneDrive\n",
      "12/26/2019  10:14 PM    <DIR>          Pictures\n",
      "08/18/2019  10:25 PM    <DIR>          Postman\n",
      "03/13/2019  09:17 PM    <DIR>          Saved Games\n",
      "03/13/2019  09:17 PM    <DIR>          Searches\n",
      "10/08/2019  02:52 PM    <DIR>          src\n",
      "09/30/2019  08:15 PM    <DIR>          Tugas\n",
      "09/30/2019  07:40 PM           594,022 TutorialPDB3.ipynb\n",
      "09/30/2019  01:15 PM    <DIR>          Untitled Folder 1\n",
      "03/02/2020  05:43 PM               555 Untitled.ipynb\n",
      "03/03/2020  03:50 PM           137,881 Untitled1.ipynb\n",
      "10/08/2019  02:18 PM           134,368 users.dat\n",
      "03/13/2019  09:17 PM    <DIR>          Videos\n",
      "02/25/2020  08:15 PM    <DIR>          WebstormProjects\n",
      "              24 File(s)     40,762,629 bytes\n",
      "              43 Dir(s)  34,247,561,216 bytes free\n"
     ]
    }
   ],
   "source": [
    "ls"
   ]
  },
  {
   "cell_type": "code",
   "execution_count": 5,
   "metadata": {},
   "outputs": [],
   "source": [
    "#ls untuk lihat file"
   ]
  },
  {
   "cell_type": "code",
   "execution_count": 6,
   "metadata": {},
   "outputs": [
    {
     "name": "stderr",
     "output_type": "stream",
     "text": [
      "b'Skipping line 20: expected 13 fields, saw 14\\nSkipping line 3740: expected 13 fields, saw 14\\nSkipping line 5467: expected 13 fields, saw 17\\nSkipping line 5624: expected 13 fields, saw 15\\n'\n"
     ]
    }
   ],
   "source": [
    "df = pd.read_csv('HMEQ.csv', error_bad_lines=False)"
   ]
  },
  {
   "cell_type": "code",
   "execution_count": 7,
   "metadata": {},
   "outputs": [
    {
     "data": {
      "text/html": [
       "<div>\n",
       "<style scoped>\n",
       "    .dataframe tbody tr th:only-of-type {\n",
       "        vertical-align: middle;\n",
       "    }\n",
       "\n",
       "    .dataframe tbody tr th {\n",
       "        vertical-align: top;\n",
       "    }\n",
       "\n",
       "    .dataframe thead th {\n",
       "        text-align: right;\n",
       "    }\n",
       "</style>\n",
       "<table border=\"1\" class=\"dataframe\">\n",
       "  <thead>\n",
       "    <tr style=\"text-align: right;\">\n",
       "      <th></th>\n",
       "      <th>BAD</th>\n",
       "      <th>LOAN</th>\n",
       "      <th>MORTDUE</th>\n",
       "      <th>VALUE</th>\n",
       "      <th>REASON</th>\n",
       "      <th>JOB</th>\n",
       "      <th>YOJ</th>\n",
       "      <th>DEROG</th>\n",
       "      <th>DELINQ</th>\n",
       "      <th>CLAGE</th>\n",
       "      <th>NINQ</th>\n",
       "      <th>CLNO</th>\n",
       "      <th>DEBTINC</th>\n",
       "    </tr>\n",
       "  </thead>\n",
       "  <tbody>\n",
       "    <tr>\n",
       "      <th>0</th>\n",
       "      <td>1</td>\n",
       "      <td>1100</td>\n",
       "      <td>25860.0</td>\n",
       "      <td>39025.0</td>\n",
       "      <td>HomeImp</td>\n",
       "      <td>Other</td>\n",
       "      <td>10.5</td>\n",
       "      <td>0.0</td>\n",
       "      <td>0.0</td>\n",
       "      <td>94.366667</td>\n",
       "      <td>1.0</td>\n",
       "      <td>9.0</td>\n",
       "      <td>NaN</td>\n",
       "    </tr>\n",
       "    <tr>\n",
       "      <th>1</th>\n",
       "      <td>1</td>\n",
       "      <td>1300</td>\n",
       "      <td>70053.0</td>\n",
       "      <td>68400.0</td>\n",
       "      <td>HomeImp</td>\n",
       "      <td>Other</td>\n",
       "      <td>7.0</td>\n",
       "      <td>0.0</td>\n",
       "      <td>2.0</td>\n",
       "      <td>121.833333</td>\n",
       "      <td>0.0</td>\n",
       "      <td>14.0</td>\n",
       "      <td>NaN</td>\n",
       "    </tr>\n",
       "    <tr>\n",
       "      <th>2</th>\n",
       "      <td>1</td>\n",
       "      <td>1500</td>\n",
       "      <td>13500.0</td>\n",
       "      <td>16700.0</td>\n",
       "      <td>HomeImp</td>\n",
       "      <td>Other</td>\n",
       "      <td>4.0</td>\n",
       "      <td>0.0</td>\n",
       "      <td>0.0</td>\n",
       "      <td>149.466667</td>\n",
       "      <td>1.0</td>\n",
       "      <td>10.0</td>\n",
       "      <td>NaN</td>\n",
       "    </tr>\n",
       "    <tr>\n",
       "      <th>3</th>\n",
       "      <td>1</td>\n",
       "      <td>1500</td>\n",
       "      <td>NaN</td>\n",
       "      <td>NaN</td>\n",
       "      <td>NaN</td>\n",
       "      <td>NaN</td>\n",
       "      <td>NaN</td>\n",
       "      <td>NaN</td>\n",
       "      <td>NaN</td>\n",
       "      <td>NaN</td>\n",
       "      <td>NaN</td>\n",
       "      <td>NaN</td>\n",
       "      <td>NaN</td>\n",
       "    </tr>\n",
       "    <tr>\n",
       "      <th>4</th>\n",
       "      <td>0</td>\n",
       "      <td>1700</td>\n",
       "      <td>97800.0</td>\n",
       "      <td>112000.0</td>\n",
       "      <td>HomeImp</td>\n",
       "      <td>Office</td>\n",
       "      <td>3.0</td>\n",
       "      <td>0.0</td>\n",
       "      <td>0.0</td>\n",
       "      <td>93.333333</td>\n",
       "      <td>0.0</td>\n",
       "      <td>14.0</td>\n",
       "      <td>NaN</td>\n",
       "    </tr>\n",
       "  </tbody>\n",
       "</table>\n",
       "</div>"
      ],
      "text/plain": [
       "   BAD  LOAN  MORTDUE     VALUE   REASON     JOB   YOJ  DEROG  DELINQ  \\\n",
       "0    1  1100  25860.0   39025.0  HomeImp   Other  10.5    0.0     0.0   \n",
       "1    1  1300  70053.0   68400.0  HomeImp   Other   7.0    0.0     2.0   \n",
       "2    1  1500  13500.0   16700.0  HomeImp   Other   4.0    0.0     0.0   \n",
       "3    1  1500      NaN       NaN      NaN     NaN   NaN    NaN     NaN   \n",
       "4    0  1700  97800.0  112000.0  HomeImp  Office   3.0    0.0     0.0   \n",
       "\n",
       "        CLAGE  NINQ  CLNO  DEBTINC  \n",
       "0   94.366667   1.0   9.0      NaN  \n",
       "1  121.833333   0.0  14.0      NaN  \n",
       "2  149.466667   1.0  10.0      NaN  \n",
       "3         NaN   NaN   NaN      NaN  \n",
       "4   93.333333   0.0  14.0      NaN  "
      ]
     },
     "execution_count": 7,
     "metadata": {},
     "output_type": "execute_result"
    }
   ],
   "source": [
    "#melihat row 1-5\n",
    "#paling kiri adalah index\n",
    "df.head()"
   ]
  },
  {
   "cell_type": "code",
   "execution_count": 8,
   "metadata": {},
   "outputs": [
    {
     "data": {
      "text/html": [
       "<div>\n",
       "<style scoped>\n",
       "    .dataframe tbody tr th:only-of-type {\n",
       "        vertical-align: middle;\n",
       "    }\n",
       "\n",
       "    .dataframe tbody tr th {\n",
       "        vertical-align: top;\n",
       "    }\n",
       "\n",
       "    .dataframe thead th {\n",
       "        text-align: right;\n",
       "    }\n",
       "</style>\n",
       "<table border=\"1\" class=\"dataframe\">\n",
       "  <thead>\n",
       "    <tr style=\"text-align: right;\">\n",
       "      <th></th>\n",
       "      <th>BAD</th>\n",
       "      <th>LOAN</th>\n",
       "      <th>MORTDUE</th>\n",
       "      <th>VALUE</th>\n",
       "      <th>REASON</th>\n",
       "      <th>JOB</th>\n",
       "      <th>YOJ</th>\n",
       "      <th>DEROG</th>\n",
       "      <th>DELINQ</th>\n",
       "      <th>CLAGE</th>\n",
       "      <th>NINQ</th>\n",
       "      <th>CLNO</th>\n",
       "      <th>DEBTINC</th>\n",
       "    </tr>\n",
       "  </thead>\n",
       "  <tbody>\n",
       "    <tr>\n",
       "      <th>5953</th>\n",
       "      <td>0</td>\n",
       "      <td>89200</td>\n",
       "      <td>54045.0</td>\n",
       "      <td>92924.0</td>\n",
       "      <td>DebtCon</td>\n",
       "      <td>Other</td>\n",
       "      <td>15.0</td>\n",
       "      <td>0.0</td>\n",
       "      <td>0.0</td>\n",
       "      <td>212.279697</td>\n",
       "      <td>0.0</td>\n",
       "      <td>15.0</td>\n",
       "      <td>35.556590</td>\n",
       "    </tr>\n",
       "    <tr>\n",
       "      <th>5954</th>\n",
       "      <td>0</td>\n",
       "      <td>89800</td>\n",
       "      <td>50370.0</td>\n",
       "      <td>91861.0</td>\n",
       "      <td>DebtCon</td>\n",
       "      <td>Other</td>\n",
       "      <td>14.0</td>\n",
       "      <td>0.0</td>\n",
       "      <td>0.0</td>\n",
       "      <td>213.892709</td>\n",
       "      <td>0.0</td>\n",
       "      <td>16.0</td>\n",
       "      <td>34.340882</td>\n",
       "    </tr>\n",
       "    <tr>\n",
       "      <th>5955</th>\n",
       "      <td>0</td>\n",
       "      <td>89900</td>\n",
       "      <td>48811.0</td>\n",
       "      <td>88934.0</td>\n",
       "      <td>DebtCon</td>\n",
       "      <td>Other</td>\n",
       "      <td>15.0</td>\n",
       "      <td>0.0</td>\n",
       "      <td>0.0</td>\n",
       "      <td>219.601002</td>\n",
       "      <td>0.0</td>\n",
       "      <td>16.0</td>\n",
       "      <td>34.571519</td>\n",
       "    </tr>\n",
       "    <tr>\n",
       "      <th>5956</th>\n",
       "      <td>0</td>\n",
       "      <td>86000</td>\n",
       "      <td>47355.0</td>\n",
       "      <td>85000.0</td>\n",
       "      <td>DebtCon</td>\n",
       "      <td>Other</td>\n",
       "      <td>15.0</td>\n",
       "      <td>0.0</td>\n",
       "      <td>0.0</td>\n",
       "      <td>210.966667</td>\n",
       "      <td>0.0</td>\n",
       "      <td>16.0</td>\n",
       "      <td>NaN</td>\n",
       "    </tr>\n",
       "    <tr>\n",
       "      <th>5957</th>\n",
       "      <td>0</td>\n",
       "      <td>23800</td>\n",
       "      <td>76390.0</td>\n",
       "      <td>110315.0</td>\n",
       "      <td>DebtCon</td>\n",
       "      <td>Mgr</td>\n",
       "      <td>7.0</td>\n",
       "      <td>0.0</td>\n",
       "      <td>0.0</td>\n",
       "      <td>275.955356</td>\n",
       "      <td>2.0</td>\n",
       "      <td>29.0</td>\n",
       "      <td>29.713601</td>\n",
       "    </tr>\n",
       "  </tbody>\n",
       "</table>\n",
       "</div>"
      ],
      "text/plain": [
       "      BAD   LOAN  MORTDUE     VALUE   REASON    JOB   YOJ  DEROG  DELINQ  \\\n",
       "5953    0  89200  54045.0   92924.0  DebtCon  Other  15.0    0.0     0.0   \n",
       "5954    0  89800  50370.0   91861.0  DebtCon  Other  14.0    0.0     0.0   \n",
       "5955    0  89900  48811.0   88934.0  DebtCon  Other  15.0    0.0     0.0   \n",
       "5956    0  86000  47355.0   85000.0  DebtCon  Other  15.0    0.0     0.0   \n",
       "5957    0  23800  76390.0  110315.0  DebtCon    Mgr   7.0    0.0     0.0   \n",
       "\n",
       "           CLAGE  NINQ  CLNO    DEBTINC  \n",
       "5953  212.279697   0.0  15.0  35.556590  \n",
       "5954  213.892709   0.0  16.0  34.340882  \n",
       "5955  219.601002   0.0  16.0  34.571519  \n",
       "5956  210.966667   0.0  16.0        NaN  \n",
       "5957  275.955356   2.0  29.0  29.713601  "
      ]
     },
     "execution_count": 8,
     "metadata": {},
     "output_type": "execute_result"
    }
   ],
   "source": [
    "#melihat 5 row terakhir\n",
    "df.tail()"
   ]
  },
  {
   "cell_type": "code",
   "execution_count": 9,
   "metadata": {},
   "outputs": [
    {
     "data": {
      "text/plain": [
       "(5958, 13)"
      ]
     },
     "execution_count": 9,
     "metadata": {},
     "output_type": "execute_result"
    }
   ],
   "source": [
    "df.shape"
   ]
  },
  {
   "cell_type": "code",
   "execution_count": 10,
   "metadata": {},
   "outputs": [
    {
     "data": {
      "text/plain": [
       "Index(['BAD', 'LOAN', 'MORTDUE', 'VALUE', 'REASON', 'JOB', 'YOJ', 'DEROG',\n",
       "       'DELINQ', 'CLAGE', 'NINQ', 'CLNO', 'DEBTINC'],\n",
       "      dtype='object')"
      ]
     },
     "execution_count": 10,
     "metadata": {},
     "output_type": "execute_result"
    }
   ],
   "source": [
    "df.columns"
   ]
  },
  {
   "cell_type": "code",
   "execution_count": 11,
   "metadata": {},
   "outputs": [
    {
     "data": {
      "text/plain": [
       "'BAD'"
      ]
     },
     "execution_count": 11,
     "metadata": {},
     "output_type": "execute_result"
    }
   ],
   "source": [
    "df.columns[0]"
   ]
  },
  {
   "cell_type": "markdown",
   "metadata": {},
   "source": [
    "### **KOLOM BAD** "
   ]
  },
  {
   "cell_type": "code",
   "execution_count": 12,
   "metadata": {},
   "outputs": [
    {
     "data": {
      "text/plain": [
       "0     4770\n",
       "1     1186\n",
       "3        1\n",
       "10       1\n",
       "Name: BAD, dtype: int64"
      ]
     },
     "execution_count": 12,
     "metadata": {},
     "output_type": "execute_result"
    }
   ],
   "source": [
    "df['BAD'].value_counts()"
   ]
  },
  {
   "cell_type": "code",
   "execution_count": 13,
   "metadata": {},
   "outputs": [],
   "source": [
    "cleaning_bad = df['BAD'] > 1"
   ]
  },
  {
   "cell_type": "code",
   "execution_count": 14,
   "metadata": {},
   "outputs": [
    {
     "data": {
      "text/html": [
       "<div>\n",
       "<style scoped>\n",
       "    .dataframe tbody tr th:only-of-type {\n",
       "        vertical-align: middle;\n",
       "    }\n",
       "\n",
       "    .dataframe tbody tr th {\n",
       "        vertical-align: top;\n",
       "    }\n",
       "\n",
       "    .dataframe thead th {\n",
       "        text-align: right;\n",
       "    }\n",
       "</style>\n",
       "<table border=\"1\" class=\"dataframe\">\n",
       "  <thead>\n",
       "    <tr style=\"text-align: right;\">\n",
       "      <th></th>\n",
       "      <th>BAD</th>\n",
       "      <th>LOAN</th>\n",
       "      <th>MORTDUE</th>\n",
       "      <th>VALUE</th>\n",
       "      <th>REASON</th>\n",
       "      <th>JOB</th>\n",
       "      <th>YOJ</th>\n",
       "      <th>DEROG</th>\n",
       "      <th>DELINQ</th>\n",
       "      <th>CLAGE</th>\n",
       "      <th>NINQ</th>\n",
       "      <th>CLNO</th>\n",
       "      <th>DEBTINC</th>\n",
       "    </tr>\n",
       "  </thead>\n",
       "  <tbody>\n",
       "    <tr>\n",
       "      <th>469</th>\n",
       "      <td>3</td>\n",
       "      <td>7000</td>\n",
       "      <td>73873.0</td>\n",
       "      <td>111781.0</td>\n",
       "      <td>DebtCon</td>\n",
       "      <td>Office</td>\n",
       "      <td>0.0</td>\n",
       "      <td>0.0</td>\n",
       "      <td>0.0</td>\n",
       "      <td>231.799913</td>\n",
       "      <td>0.0</td>\n",
       "      <td>38.0</td>\n",
       "      <td>19.273579</td>\n",
       "    </tr>\n",
       "    <tr>\n",
       "      <th>574</th>\n",
       "      <td>10</td>\n",
       "      <td>7500</td>\n",
       "      <td>63500.0</td>\n",
       "      <td>86125.0</td>\n",
       "      <td>HomeImp</td>\n",
       "      <td>Other</td>\n",
       "      <td>5.0</td>\n",
       "      <td>0.0</td>\n",
       "      <td>0.0</td>\n",
       "      <td>136.100000</td>\n",
       "      <td>0.0</td>\n",
       "      <td>8.0</td>\n",
       "      <td>NaN</td>\n",
       "    </tr>\n",
       "  </tbody>\n",
       "</table>\n",
       "</div>"
      ],
      "text/plain": [
       "     BAD  LOAN  MORTDUE     VALUE   REASON     JOB  YOJ  DEROG  DELINQ  \\\n",
       "469    3  7000  73873.0  111781.0  DebtCon  Office  0.0    0.0     0.0   \n",
       "574   10  7500  63500.0   86125.0  HomeImp   Other  5.0    0.0     0.0   \n",
       "\n",
       "          CLAGE  NINQ  CLNO    DEBTINC  \n",
       "469  231.799913   0.0  38.0  19.273579  \n",
       "574  136.100000   0.0   8.0        NaN  "
      ]
     },
     "execution_count": 14,
     "metadata": {},
     "output_type": "execute_result"
    }
   ],
   "source": [
    "df[cleaning_bad]"
   ]
  },
  {
   "cell_type": "code",
   "execution_count": 15,
   "metadata": {},
   "outputs": [
    {
     "data": {
      "text/plain": [
       "Int64Index([469, 574], dtype='int64')"
      ]
     },
     "execution_count": 15,
     "metadata": {},
     "output_type": "execute_result"
    }
   ],
   "source": [
    "df[cleaning_bad].index"
   ]
  },
  {
   "cell_type": "code",
   "execution_count": 16,
   "metadata": {},
   "outputs": [],
   "source": [
    "idx = df[cleaning_bad].index\n",
    "df.drop(idx, inplace=True)"
   ]
  },
  {
   "cell_type": "code",
   "execution_count": 139,
   "metadata": {},
   "outputs": [
    {
     "data": {
      "text/plain": [
       "0    4765\n",
       "1    1185\n",
       "Name: BAD, dtype: int64"
      ]
     },
     "execution_count": 139,
     "metadata": {},
     "output_type": "execute_result"
    }
   ],
   "source": [
    "df['BAD'].value_counts()"
   ]
  },
  {
   "cell_type": "markdown",
   "metadata": {},
   "source": [
    "### **KOLOM LOAN**"
   ]
  },
  {
   "cell_type": "code",
   "execution_count": 18,
   "metadata": {},
   "outputs": [],
   "source": [
    "#df,isnull().sum()"
   ]
  },
  {
   "cell_type": "code",
   "execution_count": 19,
   "metadata": {},
   "outputs": [
    {
     "data": {
      "text/plain": [
       "BAD           0\n",
       "LOAN          0\n",
       "MORTDUE     518\n",
       "VALUE       112\n",
       "REASON      252\n",
       "JOB         279\n",
       "YOJ         514\n",
       "DEROG       708\n",
       "DELINQ      580\n",
       "CLAGE       308\n",
       "NINQ        510\n",
       "CLNO        222\n",
       "DEBTINC    1266\n",
       "dtype: int64"
      ]
     },
     "execution_count": 19,
     "metadata": {},
     "output_type": "execute_result"
    }
   ],
   "source": [
    "df.isnull().sum()"
   ]
  },
  {
   "cell_type": "code",
   "execution_count": 20,
   "metadata": {},
   "outputs": [
    {
     "data": {
      "text/html": [
       "<div>\n",
       "<style scoped>\n",
       "    .dataframe tbody tr th:only-of-type {\n",
       "        vertical-align: middle;\n",
       "    }\n",
       "\n",
       "    .dataframe tbody tr th {\n",
       "        vertical-align: top;\n",
       "    }\n",
       "\n",
       "    .dataframe thead th {\n",
       "        text-align: right;\n",
       "    }\n",
       "</style>\n",
       "<table border=\"1\" class=\"dataframe\">\n",
       "  <thead>\n",
       "    <tr style=\"text-align: right;\">\n",
       "      <th></th>\n",
       "      <th>BAD</th>\n",
       "      <th>LOAN</th>\n",
       "      <th>MORTDUE</th>\n",
       "      <th>VALUE</th>\n",
       "      <th>YOJ</th>\n",
       "      <th>DEROG</th>\n",
       "      <th>DELINQ</th>\n",
       "      <th>CLAGE</th>\n",
       "      <th>NINQ</th>\n",
       "      <th>CLNO</th>\n",
       "      <th>DEBTINC</th>\n",
       "    </tr>\n",
       "  </thead>\n",
       "  <tbody>\n",
       "    <tr>\n",
       "      <th>count</th>\n",
       "      <td>5956.000000</td>\n",
       "      <td>5.956000e+03</td>\n",
       "      <td>5438.00000</td>\n",
       "      <td>5.844000e+03</td>\n",
       "      <td>5442.000000</td>\n",
       "      <td>5248.000000</td>\n",
       "      <td>5376.000000</td>\n",
       "      <td>5648.000000</td>\n",
       "      <td>5446.000000</td>\n",
       "      <td>5734.000000</td>\n",
       "      <td>4690.000000</td>\n",
       "    </tr>\n",
       "    <tr>\n",
       "      <th>mean</th>\n",
       "      <td>0.199127</td>\n",
       "      <td>1.972785e+04</td>\n",
       "      <td>73746.42740</td>\n",
       "      <td>2.581990e+05</td>\n",
       "      <td>8.920847</td>\n",
       "      <td>0.254764</td>\n",
       "      <td>0.449777</td>\n",
       "      <td>179.801786</td>\n",
       "      <td>1.186559</td>\n",
       "      <td>21.292815</td>\n",
       "      <td>35.192233</td>\n",
       "    </tr>\n",
       "    <tr>\n",
       "      <th>std</th>\n",
       "      <td>0.399377</td>\n",
       "      <td>8.601550e+04</td>\n",
       "      <td>44429.62235</td>\n",
       "      <td>1.177511e+07</td>\n",
       "      <td>7.569718</td>\n",
       "      <td>0.846340</td>\n",
       "      <td>1.127619</td>\n",
       "      <td>85.826601</td>\n",
       "      <td>1.728944</td>\n",
       "      <td>10.135962</td>\n",
       "      <td>73.635035</td>\n",
       "    </tr>\n",
       "    <tr>\n",
       "      <th>min</th>\n",
       "      <td>0.000000</td>\n",
       "      <td>1.100000e+03</td>\n",
       "      <td>2063.00000</td>\n",
       "      <td>-2.500000e+04</td>\n",
       "      <td>0.000000</td>\n",
       "      <td>0.000000</td>\n",
       "      <td>0.000000</td>\n",
       "      <td>0.000000</td>\n",
       "      <td>0.000000</td>\n",
       "      <td>0.000000</td>\n",
       "      <td>-21.719596</td>\n",
       "    </tr>\n",
       "    <tr>\n",
       "      <th>25%</th>\n",
       "      <td>0.000000</td>\n",
       "      <td>1.110000e+04</td>\n",
       "      <td>46303.00000</td>\n",
       "      <td>6.608425e+04</td>\n",
       "      <td>3.000000</td>\n",
       "      <td>0.000000</td>\n",
       "      <td>0.000000</td>\n",
       "      <td>115.116702</td>\n",
       "      <td>0.000000</td>\n",
       "      <td>15.000000</td>\n",
       "      <td>29.140489</td>\n",
       "    </tr>\n",
       "    <tr>\n",
       "      <th>50%</th>\n",
       "      <td>0.000000</td>\n",
       "      <td>1.640000e+04</td>\n",
       "      <td>65019.00000</td>\n",
       "      <td>8.924500e+04</td>\n",
       "      <td>7.000000</td>\n",
       "      <td>0.000000</td>\n",
       "      <td>0.000000</td>\n",
       "      <td>173.480399</td>\n",
       "      <td>1.000000</td>\n",
       "      <td>20.000000</td>\n",
       "      <td>34.817611</td>\n",
       "    </tr>\n",
       "    <tr>\n",
       "      <th>75%</th>\n",
       "      <td>0.000000</td>\n",
       "      <td>2.330000e+04</td>\n",
       "      <td>91459.75000</td>\n",
       "      <td>1.198242e+05</td>\n",
       "      <td>13.000000</td>\n",
       "      <td>0.000000</td>\n",
       "      <td>0.000000</td>\n",
       "      <td>231.601311</td>\n",
       "      <td>2.000000</td>\n",
       "      <td>26.000000</td>\n",
       "      <td>39.008632</td>\n",
       "    </tr>\n",
       "    <tr>\n",
       "      <th>max</th>\n",
       "      <td>1.000000</td>\n",
       "      <td>6.600000e+06</td>\n",
       "      <td>399550.00000</td>\n",
       "      <td>9.001400e+08</td>\n",
       "      <td>41.000000</td>\n",
       "      <td>10.000000</td>\n",
       "      <td>15.000000</td>\n",
       "      <td>1168.233561</td>\n",
       "      <td>17.000000</td>\n",
       "      <td>71.000000</td>\n",
       "      <td>4537.512708</td>\n",
       "    </tr>\n",
       "  </tbody>\n",
       "</table>\n",
       "</div>"
      ],
      "text/plain": [
       "               BAD          LOAN       MORTDUE         VALUE          YOJ  \\\n",
       "count  5956.000000  5.956000e+03    5438.00000  5.844000e+03  5442.000000   \n",
       "mean      0.199127  1.972785e+04   73746.42740  2.581990e+05     8.920847   \n",
       "std       0.399377  8.601550e+04   44429.62235  1.177511e+07     7.569718   \n",
       "min       0.000000  1.100000e+03    2063.00000 -2.500000e+04     0.000000   \n",
       "25%       0.000000  1.110000e+04   46303.00000  6.608425e+04     3.000000   \n",
       "50%       0.000000  1.640000e+04   65019.00000  8.924500e+04     7.000000   \n",
       "75%       0.000000  2.330000e+04   91459.75000  1.198242e+05    13.000000   \n",
       "max       1.000000  6.600000e+06  399550.00000  9.001400e+08    41.000000   \n",
       "\n",
       "             DEROG       DELINQ        CLAGE         NINQ         CLNO  \\\n",
       "count  5248.000000  5376.000000  5648.000000  5446.000000  5734.000000   \n",
       "mean      0.254764     0.449777   179.801786     1.186559    21.292815   \n",
       "std       0.846340     1.127619    85.826601     1.728944    10.135962   \n",
       "min       0.000000     0.000000     0.000000     0.000000     0.000000   \n",
       "25%       0.000000     0.000000   115.116702     0.000000    15.000000   \n",
       "50%       0.000000     0.000000   173.480399     1.000000    20.000000   \n",
       "75%       0.000000     0.000000   231.601311     2.000000    26.000000   \n",
       "max      10.000000    15.000000  1168.233561    17.000000    71.000000   \n",
       "\n",
       "           DEBTINC  \n",
       "count  4690.000000  \n",
       "mean     35.192233  \n",
       "std      73.635035  \n",
       "min     -21.719596  \n",
       "25%      29.140489  \n",
       "50%      34.817611  \n",
       "75%      39.008632  \n",
       "max    4537.512708  "
      ]
     },
     "execution_count": 20,
     "metadata": {},
     "output_type": "execute_result"
    }
   ],
   "source": [
    "df.describe()"
   ]
  },
  {
   "cell_type": "code",
   "execution_count": 21,
   "metadata": {},
   "outputs": [
    {
     "data": {
      "text/plain": [
       "LOAN    AxesSubplot(0.125,0.125;0.775x0.755)\n",
       "dtype: object"
      ]
     },
     "execution_count": 21,
     "metadata": {},
     "output_type": "execute_result"
    },
    {
     "data": {
      "image/png": "[encoded data removed]",
      "text/plain": [
       "<Figure size 360x720 with 1 Axes>"
      ]
     },
     "metadata": {
      "needs_background": "light"
     },
     "output_type": "display_data"
    }
   ],
   "source": [
    "df['LOAN'].plot.box(subplots=True, figsize=(5,10))"
   ]
  },
  {
   "cell_type": "code",
   "execution_count": 22,
   "metadata": {},
   "outputs": [],
   "source": [
    "cleaning_loan = df['LOAN'] > 1000000"
   ]
  },
  {
   "cell_type": "code",
   "execution_count": 23,
   "metadata": {},
   "outputs": [
    {
     "data": {
      "text/plain": [
       "0       False\n",
       "1       False\n",
       "2       False\n",
       "3       False\n",
       "4       False\n",
       "5       False\n",
       "6       False\n",
       "7       False\n",
       "8       False\n",
       "9       False\n",
       "10      False\n",
       "11      False\n",
       "12      False\n",
       "13      False\n",
       "14      False\n",
       "15      False\n",
       "16      False\n",
       "17      False\n",
       "18      False\n",
       "19      False\n",
       "20      False\n",
       "21      False\n",
       "22      False\n",
       "23      False\n",
       "24      False\n",
       "25      False\n",
       "26      False\n",
       "27      False\n",
       "28      False\n",
       "29      False\n",
       "        ...  \n",
       "5928    False\n",
       "5929    False\n",
       "5930    False\n",
       "5931    False\n",
       "5932    False\n",
       "5933    False\n",
       "5934    False\n",
       "5935    False\n",
       "5936    False\n",
       "5937    False\n",
       "5938    False\n",
       "5939    False\n",
       "5940    False\n",
       "5941    False\n",
       "5942    False\n",
       "5943    False\n",
       "5944    False\n",
       "5945    False\n",
       "5946    False\n",
       "5947    False\n",
       "5948    False\n",
       "5949    False\n",
       "5950    False\n",
       "5951    False\n",
       "5952    False\n",
       "5953    False\n",
       "5954    False\n",
       "5955    False\n",
       "5956    False\n",
       "5957    False\n",
       "Name: LOAN, Length: 5956, dtype: bool"
      ]
     },
     "execution_count": 23,
     "metadata": {},
     "output_type": "execute_result"
    }
   ],
   "source": [
    "cleaning_loan"
   ]
  },
  {
   "cell_type": "code",
   "execution_count": 24,
   "metadata": {},
   "outputs": [
    {
     "data": {
      "text/html": [
       "<div>\n",
       "<style scoped>\n",
       "    .dataframe tbody tr th:only-of-type {\n",
       "        vertical-align: middle;\n",
       "    }\n",
       "\n",
       "    .dataframe tbody tr th {\n",
       "        vertical-align: top;\n",
       "    }\n",
       "\n",
       "    .dataframe thead th {\n",
       "        text-align: right;\n",
       "    }\n",
       "</style>\n",
       "<table border=\"1\" class=\"dataframe\">\n",
       "  <thead>\n",
       "    <tr style=\"text-align: right;\">\n",
       "      <th></th>\n",
       "      <th>BAD</th>\n",
       "      <th>LOAN</th>\n",
       "      <th>MORTDUE</th>\n",
       "      <th>VALUE</th>\n",
       "      <th>REASON</th>\n",
       "      <th>JOB</th>\n",
       "      <th>YOJ</th>\n",
       "      <th>DEROG</th>\n",
       "      <th>DELINQ</th>\n",
       "      <th>CLAGE</th>\n",
       "      <th>NINQ</th>\n",
       "      <th>CLNO</th>\n",
       "      <th>DEBTINC</th>\n",
       "    </tr>\n",
       "  </thead>\n",
       "  <tbody>\n",
       "    <tr>\n",
       "      <th>419</th>\n",
       "      <td>0</td>\n",
       "      <td>6600000</td>\n",
       "      <td>40926.0</td>\n",
       "      <td>50486.0</td>\n",
       "      <td>HomeImp</td>\n",
       "      <td>Office</td>\n",
       "      <td>10.0</td>\n",
       "      <td>NaN</td>\n",
       "      <td>NaN</td>\n",
       "      <td>179.800868</td>\n",
       "      <td>NaN</td>\n",
       "      <td>19.0</td>\n",
       "      <td>27.532376</td>\n",
       "    </tr>\n",
       "  </tbody>\n",
       "</table>\n",
       "</div>"
      ],
      "text/plain": [
       "     BAD     LOAN  MORTDUE    VALUE   REASON     JOB   YOJ  DEROG  DELINQ  \\\n",
       "419    0  6600000  40926.0  50486.0  HomeImp  Office  10.0    NaN     NaN   \n",
       "\n",
       "          CLAGE  NINQ  CLNO    DEBTINC  \n",
       "419  179.800868   NaN  19.0  27.532376  "
      ]
     },
     "execution_count": 24,
     "metadata": {},
     "output_type": "execute_result"
    }
   ],
   "source": [
    "df[cleaning_loan]"
   ]
  },
  {
   "cell_type": "code",
   "execution_count": 25,
   "metadata": {},
   "outputs": [],
   "source": [
    "idx_loan = df[cleaning_loan].index"
   ]
  },
  {
   "cell_type": "code",
   "execution_count": 26,
   "metadata": {},
   "outputs": [
    {
     "data": {
      "text/plain": [
       "Int64Index([419], dtype='int64')"
      ]
     },
     "execution_count": 26,
     "metadata": {},
     "output_type": "execute_result"
    }
   ],
   "source": [
    "idx_loan"
   ]
  },
  {
   "cell_type": "code",
   "execution_count": 27,
   "metadata": {},
   "outputs": [
    {
     "data": {
      "text/plain": [
       "BAD         1.507217\n",
       "LOAN       75.212136\n",
       "MORTDUE     1.817241\n",
       "VALUE      76.414547\n",
       "YOJ         0.988616\n",
       "DEROG       5.318728\n",
       "DELINQ      4.021525\n",
       "CLAGE       1.343106\n",
       "NINQ        2.621796\n",
       "CLNO        0.775836\n",
       "DEBTINC    54.381906\n",
       "dtype: float64"
      ]
     },
     "execution_count": 27,
     "metadata": {},
     "output_type": "execute_result"
    }
   ],
   "source": [
    "df.skew()"
   ]
  },
  {
   "cell_type": "code",
   "execution_count": 28,
   "metadata": {},
   "outputs": [],
   "source": [
    "df.drop(idx_loan, inplace = True)"
   ]
  },
  {
   "cell_type": "code",
   "execution_count": 29,
   "metadata": {},
   "outputs": [
    {
     "data": {
      "text/plain": [
       "BAD         1.506955\n",
       "LOAN        2.041698\n",
       "MORTDUE     1.817014\n",
       "VALUE      76.408009\n",
       "YOJ         0.988609\n",
       "DEROG       5.318728\n",
       "DELINQ      4.021525\n",
       "CLAGE       1.342987\n",
       "NINQ        2.621796\n",
       "CLNO        0.775662\n",
       "DEBTINC    54.376234\n",
       "dtype: float64"
      ]
     },
     "execution_count": 29,
     "metadata": {},
     "output_type": "execute_result"
    }
   ],
   "source": [
    "df.skew()"
   ]
  },
  {
   "cell_type": "markdown",
   "metadata": {},
   "source": [
    "### **KOLOM MORTDUE**"
   ]
  },
  {
   "cell_type": "code",
   "execution_count": 30,
   "metadata": {},
   "outputs": [],
   "source": [
    "mean_mortdue = df['MORTDUE'].mean()"
   ]
  },
  {
   "cell_type": "code",
   "execution_count": 31,
   "metadata": {},
   "outputs": [
    {
     "data": {
      "text/plain": [
       "73752.46389553061"
      ]
     },
     "execution_count": 31,
     "metadata": {},
     "output_type": "execute_result"
    }
   ],
   "source": [
    "mean_mortdue"
   ]
  },
  {
   "cell_type": "code",
   "execution_count": 32,
   "metadata": {},
   "outputs": [],
   "source": [
    "df['MORTDUE'] = df['MORTDUE'].fillna(value=mean_mortdue)"
   ]
  },
  {
   "cell_type": "code",
   "execution_count": 33,
   "metadata": {},
   "outputs": [
    {
     "data": {
      "text/plain": [
       "BAD           0\n",
       "LOAN          0\n",
       "MORTDUE       0\n",
       "VALUE       112\n",
       "REASON      252\n",
       "JOB         279\n",
       "YOJ         514\n",
       "DEROG       707\n",
       "DELINQ      579\n",
       "CLAGE       308\n",
       "NINQ        509\n",
       "CLNO        222\n",
       "DEBTINC    1266\n",
       "dtype: int64"
      ]
     },
     "execution_count": 33,
     "metadata": {},
     "output_type": "execute_result"
    }
   ],
   "source": [
    "df.isnull().sum()"
   ]
  },
  {
   "cell_type": "markdown",
   "metadata": {},
   "source": [
    "### ***KOLOM VALUE***"
   ]
  },
  {
   "cell_type": "code",
   "execution_count": 34,
   "metadata": {},
   "outputs": [
    {
     "data": {
      "text/plain": [
       "BAD         1.506955\n",
       "LOAN        2.041698\n",
       "MORTDUE     1.901556\n",
       "VALUE      76.408009\n",
       "YOJ         0.988609\n",
       "DEROG       5.318728\n",
       "DELINQ      4.021525\n",
       "CLAGE       1.342987\n",
       "NINQ        2.621796\n",
       "CLNO        0.775662\n",
       "DEBTINC    54.376234\n",
       "dtype: float64"
      ]
     },
     "execution_count": 34,
     "metadata": {},
     "output_type": "execute_result"
    }
   ],
   "source": [
    "df.skew()"
   ]
  },
  {
   "cell_type": "code",
   "execution_count": 35,
   "metadata": {},
   "outputs": [
    {
     "data": {
      "text/plain": [
       "VALUE    AxesSubplot(0.125,0.125;0.775x0.755)\n",
       "dtype: object"
      ]
     },
     "execution_count": 35,
     "metadata": {},
     "output_type": "execute_result"
    },
    {
     "data": {
      "image/png": "[encoded data removed]",
      "text/plain": [
       "<Figure size 720x1080 with 1 Axes>"
      ]
     },
     "metadata": {
      "needs_background": "light"
     },
     "output_type": "display_data"
    }
   ],
   "source": [
    "df['VALUE'].plot.box(subplots=True, figsize=(10,15))"
   ]
  },
  {
   "cell_type": "code",
   "execution_count": 36,
   "metadata": {},
   "outputs": [],
   "source": [
    "median_value=df['VALUE'].median()"
   ]
  },
  {
   "cell_type": "code",
   "execution_count": 37,
   "metadata": {},
   "outputs": [
    {
     "data": {
      "text/plain": [
       "89250.0"
      ]
     },
     "execution_count": 37,
     "metadata": {},
     "output_type": "execute_result"
    }
   ],
   "source": [
    "median_value"
   ]
  },
  {
   "cell_type": "code",
   "execution_count": 38,
   "metadata": {},
   "outputs": [],
   "source": [
    "df['VALUE'] = df['VALUE'].fillna(value=median_value)"
   ]
  },
  {
   "cell_type": "code",
   "execution_count": 39,
   "metadata": {},
   "outputs": [],
   "source": [
    "max_value=df['VALUE'].max()"
   ]
  },
  {
   "cell_type": "code",
   "execution_count": 40,
   "metadata": {},
   "outputs": [
    {
     "data": {
      "text/plain": [
       "900140000.0"
      ]
     },
     "execution_count": 40,
     "metadata": {},
     "output_type": "execute_result"
    }
   ],
   "source": [
    "max_value"
   ]
  },
  {
   "cell_type": "code",
   "execution_count": 41,
   "metadata": {},
   "outputs": [
    {
     "data": {
      "text/html": [
       "<div>\n",
       "<style scoped>\n",
       "    .dataframe tbody tr th:only-of-type {\n",
       "        vertical-align: middle;\n",
       "    }\n",
       "\n",
       "    .dataframe tbody tr th {\n",
       "        vertical-align: top;\n",
       "    }\n",
       "\n",
       "    .dataframe thead th {\n",
       "        text-align: right;\n",
       "    }\n",
       "</style>\n",
       "<table border=\"1\" class=\"dataframe\">\n",
       "  <thead>\n",
       "    <tr style=\"text-align: right;\">\n",
       "      <th></th>\n",
       "      <th>BAD</th>\n",
       "      <th>LOAN</th>\n",
       "      <th>MORTDUE</th>\n",
       "      <th>VALUE</th>\n",
       "      <th>REASON</th>\n",
       "      <th>JOB</th>\n",
       "      <th>YOJ</th>\n",
       "      <th>DEROG</th>\n",
       "      <th>DELINQ</th>\n",
       "      <th>CLAGE</th>\n",
       "      <th>NINQ</th>\n",
       "      <th>CLNO</th>\n",
       "      <th>DEBTINC</th>\n",
       "    </tr>\n",
       "  </thead>\n",
       "  <tbody>\n",
       "    <tr>\n",
       "      <th>4019</th>\n",
       "      <td>0</td>\n",
       "      <td>21000</td>\n",
       "      <td>87000.0</td>\n",
       "      <td>900140000.0</td>\n",
       "      <td>DebtCon</td>\n",
       "      <td>ProfExe</td>\n",
       "      <td>22.0</td>\n",
       "      <td>1.0</td>\n",
       "      <td>0.0</td>\n",
       "      <td>163.366667</td>\n",
       "      <td>1.0</td>\n",
       "      <td>25.0</td>\n",
       "      <td>NaN</td>\n",
       "    </tr>\n",
       "  </tbody>\n",
       "</table>\n",
       "</div>"
      ],
      "text/plain": [
       "      BAD   LOAN  MORTDUE        VALUE   REASON      JOB   YOJ  DEROG  DELINQ  \\\n",
       "4019    0  21000  87000.0  900140000.0  DebtCon  ProfExe  22.0    1.0     0.0   \n",
       "\n",
       "           CLAGE  NINQ  CLNO  DEBTINC  \n",
       "4019  163.366667   1.0  25.0      NaN  "
      ]
     },
     "execution_count": 41,
     "metadata": {},
     "output_type": "execute_result"
    }
   ],
   "source": [
    "#mencari kolom yang indexnya sesuai dengan max_value\n",
    "df[df['VALUE'] == max_value]"
   ]
  },
  {
   "cell_type": "code",
   "execution_count": 42,
   "metadata": {},
   "outputs": [],
   "source": [
    "idx_max_value = df[df['VALUE'] == max_value].index"
   ]
  },
  {
   "cell_type": "code",
   "execution_count": 43,
   "metadata": {},
   "outputs": [
    {
     "data": {
      "text/plain": [
       "Int64Index([4019], dtype='int64')"
      ]
     },
     "execution_count": 43,
     "metadata": {},
     "output_type": "execute_result"
    }
   ],
   "source": [
    "idx_max_value"
   ]
  },
  {
   "cell_type": "code",
   "execution_count": 44,
   "metadata": {},
   "outputs": [
    {
     "data": {
      "text/plain": [
       "BAD         1.506955\n",
       "LOAN        2.041698\n",
       "MORTDUE     1.901556\n",
       "VALUE      77.136833\n",
       "YOJ         0.988609\n",
       "DEROG       5.318728\n",
       "DELINQ      4.021525\n",
       "CLAGE       1.342987\n",
       "NINQ        2.621796\n",
       "CLNO        0.775662\n",
       "DEBTINC    54.376234\n",
       "dtype: float64"
      ]
     },
     "execution_count": 44,
     "metadata": {},
     "output_type": "execute_result"
    }
   ],
   "source": [
    "df.skew()"
   ]
  },
  {
   "cell_type": "code",
   "execution_count": 45,
   "metadata": {},
   "outputs": [],
   "source": [
    "df.drop(idx_max_value, inplace = True)"
   ]
  },
  {
   "cell_type": "code",
   "execution_count": 46,
   "metadata": {},
   "outputs": [
    {
     "data": {
      "text/plain": [
       "BAD         1.506692\n",
       "LOAN        2.041655\n",
       "MORTDUE     1.901595\n",
       "VALUE      67.552865\n",
       "YOJ         0.989337\n",
       "DEROG       5.319774\n",
       "DELINQ      4.021119\n",
       "CLAGE       1.342780\n",
       "NINQ        2.621504\n",
       "CLNO        0.775804\n",
       "DEBTINC    54.376234\n",
       "dtype: float64"
      ]
     },
     "execution_count": 46,
     "metadata": {},
     "output_type": "execute_result"
    }
   ],
   "source": [
    "df.skew()"
   ]
  },
  {
   "cell_type": "code",
   "execution_count": 47,
   "metadata": {},
   "outputs": [
    {
     "data": {
      "text/plain": [
       "VALUE    AxesSubplot(0.125,0.125;0.775x0.755)\n",
       "dtype: object"
      ]
     },
     "execution_count": 47,
     "metadata": {},
     "output_type": "execute_result"
    },
    {
     "data": {
      "image/png": "[encoded data removed]",
      "text/plain": [
       "<Figure size 720x1080 with 1 Axes>"
      ]
     },
     "metadata": {
      "needs_background": "light"
     },
     "output_type": "display_data"
    }
   ],
   "source": [
    "df['VALUE'].plot.box(subplots=True, figsize=(10,15))"
   ]
  },
  {
   "cell_type": "code",
   "execution_count": 48,
   "metadata": {},
   "outputs": [],
   "source": [
    "max_value_2 = df['VALUE'].max()"
   ]
  },
  {
   "cell_type": "code",
   "execution_count": 49,
   "metadata": {},
   "outputs": [
    {
     "data": {
      "text/plain": [
       "14440150.0"
      ]
     },
     "execution_count": 49,
     "metadata": {},
     "output_type": "execute_result"
    }
   ],
   "source": [
    "max_value_2"
   ]
  },
  {
   "cell_type": "code",
   "execution_count": 50,
   "metadata": {},
   "outputs": [],
   "source": [
    "idx_max_value2 = df[df['VALUE'] == max_value_2].index"
   ]
  },
  {
   "cell_type": "code",
   "execution_count": 51,
   "metadata": {},
   "outputs": [
    {
     "data": {
      "text/plain": [
       "Int64Index([998], dtype='int64')"
      ]
     },
     "execution_count": 51,
     "metadata": {},
     "output_type": "execute_result"
    }
   ],
   "source": [
    "idx_max_value2"
   ]
  },
  {
   "cell_type": "code",
   "execution_count": 52,
   "metadata": {},
   "outputs": [],
   "source": [
    "df.drop(idx_max_value2, inplace=True)"
   ]
  },
  {
   "cell_type": "code",
   "execution_count": 53,
   "metadata": {},
   "outputs": [
    {
     "data": {
      "text/plain": [
       "BAD         1.506430\n",
       "LOAN        2.041509\n",
       "MORTDUE     1.901694\n",
       "VALUE       3.093620\n",
       "YOJ         0.989252\n",
       "DEROG       5.319239\n",
       "DELINQ      4.020713\n",
       "CLAGE       1.342803\n",
       "NINQ        2.621285\n",
       "CLNO        0.776302\n",
       "DEBTINC    54.376234\n",
       "dtype: float64"
      ]
     },
     "execution_count": 53,
     "metadata": {},
     "output_type": "execute_result"
    }
   ],
   "source": [
    "df.skew()"
   ]
  },
  {
   "cell_type": "markdown",
   "metadata": {},
   "source": [
    "### **KOLOM REASON DAN JOB**"
   ]
  },
  {
   "cell_type": "code",
   "execution_count": 54,
   "metadata": {},
   "outputs": [
    {
     "data": {
      "text/plain": [
       "DebtCon     3924\n",
       "HomeImp     1776\n",
       "DebtCons       1\n",
       "Name: REASON, dtype: int64"
      ]
     },
     "execution_count": 54,
     "metadata": {},
     "output_type": "execute_result"
    }
   ],
   "source": [
    "#Tipenya kategorikal\n",
    "df['REASON'].value_counts()"
   ]
  },
  {
   "cell_type": "code",
   "execution_count": 55,
   "metadata": {},
   "outputs": [
    {
     "data": {
      "text/plain": [
       "BAD           0\n",
       "LOAN          0\n",
       "MORTDUE       0\n",
       "VALUE         0\n",
       "REASON      252\n",
       "JOB         279\n",
       "YOJ         514\n",
       "DEROG       707\n",
       "DELINQ      579\n",
       "CLAGE       308\n",
       "NINQ        509\n",
       "CLNO        222\n",
       "DEBTINC    1264\n",
       "dtype: int64"
      ]
     },
     "execution_count": 55,
     "metadata": {},
     "output_type": "execute_result"
    }
   ],
   "source": [
    "df.isnull().sum()"
   ]
  },
  {
   "cell_type": "code",
   "execution_count": 56,
   "metadata": {},
   "outputs": [
    {
     "data": {
      "text/plain": [
       "Other      2383\n",
       "ProfExe    1275\n",
       "Office      946\n",
       "Mgr         767\n",
       "Self        193\n",
       "Sales       109\n",
       "Othe          1\n",
       "Name: JOB, dtype: int64"
      ]
     },
     "execution_count": 56,
     "metadata": {},
     "output_type": "execute_result"
    }
   ],
   "source": [
    "df['JOB'].value_counts()"
   ]
  },
  {
   "cell_type": "code",
   "execution_count": 57,
   "metadata": {},
   "outputs": [],
   "source": [
    "dictio = {'REASON' : 'DebtCon', 'JOB' : 'Other'}"
   ]
  },
  {
   "cell_type": "code",
   "execution_count": 58,
   "metadata": {},
   "outputs": [],
   "source": [
    "df = df.fillna(value=dictio)"
   ]
  },
  {
   "cell_type": "code",
   "execution_count": 59,
   "metadata": {},
   "outputs": [
    {
     "data": {
      "text/plain": [
       "BAD           0\n",
       "LOAN          0\n",
       "MORTDUE       0\n",
       "VALUE         0\n",
       "REASON        0\n",
       "JOB           0\n",
       "YOJ         514\n",
       "DEROG       707\n",
       "DELINQ      579\n",
       "CLAGE       308\n",
       "NINQ        509\n",
       "CLNO        222\n",
       "DEBTINC    1264\n",
       "dtype: int64"
      ]
     },
     "execution_count": 59,
     "metadata": {},
     "output_type": "execute_result"
    }
   ],
   "source": [
    "df.isnull().sum()"
   ]
  },
  {
   "cell_type": "code",
   "execution_count": 60,
   "metadata": {},
   "outputs": [],
   "source": [
    "df['JOB'] = df['JOB'].replace('Othe', 'Other')"
   ]
  },
  {
   "cell_type": "code",
   "execution_count": 61,
   "metadata": {},
   "outputs": [],
   "source": [
    "df['REASON'] = df['REASON'].replace('DebtCons', 'DebtCon')"
   ]
  },
  {
   "cell_type": "code",
   "execution_count": 62,
   "metadata": {},
   "outputs": [
    {
     "data": {
      "text/plain": [
       "DebtCon    4177\n",
       "HomeImp    1776\n",
       "Name: REASON, dtype: int64"
      ]
     },
     "execution_count": 62,
     "metadata": {},
     "output_type": "execute_result"
    }
   ],
   "source": [
    "df['REASON'].value_counts()"
   ]
  },
  {
   "cell_type": "code",
   "execution_count": 63,
   "metadata": {},
   "outputs": [
    {
     "data": {
      "text/plain": [
       "Other      2663\n",
       "ProfExe    1275\n",
       "Office      946\n",
       "Mgr         767\n",
       "Self        193\n",
       "Sales       109\n",
       "Name: JOB, dtype: int64"
      ]
     },
     "execution_count": 63,
     "metadata": {},
     "output_type": "execute_result"
    }
   ],
   "source": [
    "df['JOB'].value_counts()"
   ]
  },
  {
   "cell_type": "markdown",
   "metadata": {},
   "source": [
    "### **KOLOM DEBTINC**"
   ]
  },
  {
   "cell_type": "code",
   "execution_count": 64,
   "metadata": {},
   "outputs": [
    {
     "data": {
      "text/plain": [
       "BAD         1.506430\n",
       "LOAN        2.041509\n",
       "MORTDUE     1.901694\n",
       "VALUE       3.093620\n",
       "YOJ         0.989252\n",
       "DEROG       5.319239\n",
       "DELINQ      4.020713\n",
       "CLAGE       1.342803\n",
       "NINQ        2.621285\n",
       "CLNO        0.776302\n",
       "DEBTINC    54.376234\n",
       "dtype: float64"
      ]
     },
     "execution_count": 64,
     "metadata": {},
     "output_type": "execute_result"
    }
   ],
   "source": [
    "df.skew()"
   ]
  },
  {
   "cell_type": "code",
   "execution_count": 107,
   "metadata": {},
   "outputs": [
    {
     "data": {
      "text/plain": [
       "34.816960    1265\n",
       "29.713601       2\n",
       "39.791199       1\n",
       "39.918790       1\n",
       "25.461614       1\n",
       "19.089301       1\n",
       "39.095566       1\n",
       "20.856068       1\n",
       "41.482804       1\n",
       "35.598951       1\n",
       "26.956698       1\n",
       "36.537401       1\n",
       "27.694521       1\n",
       "37.610845       1\n",
       "27.503540       1\n",
       "22.655140       1\n",
       "31.338764       1\n",
       "30.857067       1\n",
       "23.112290       1\n",
       "40.987301       1\n",
       "36.452296       1\n",
       "34.686089       1\n",
       "34.767949       1\n",
       "7.614065        1\n",
       "33.714239       1\n",
       "34.068269       1\n",
       "41.230527       1\n",
       "24.200936       1\n",
       "27.920662       1\n",
       "15.823616       1\n",
       "             ... \n",
       "35.247328       1\n",
       "32.294217       1\n",
       "34.369368       1\n",
       "15.024706       1\n",
       "31.089120       1\n",
       "35.415113       1\n",
       "30.305388       1\n",
       "34.478074       1\n",
       "41.629363       1\n",
       "33.592319       1\n",
       "41.966249       1\n",
       "39.234608       1\n",
       "35.073918       1\n",
       "36.877099       1\n",
       "34.565876       1\n",
       "35.406060       1\n",
       "43.717499       1\n",
       "41.350975       1\n",
       "40.139232       1\n",
       "30.424481       1\n",
       "49.418114       1\n",
       "31.742249       1\n",
       "37.580530       1\n",
       "29.472614       1\n",
       "32.791478       1\n",
       "24.187934       1\n",
       "29.633608       1\n",
       "30.553005       1\n",
       "38.682676       1\n",
       "36.010892       1\n",
       "Name: DEBTINC, Length: 4685, dtype: int64"
      ]
     },
     "execution_count": 107,
     "metadata": {},
     "output_type": "execute_result"
    }
   ],
   "source": [
    "df['DEBTINC'].value_counts()"
   ]
  },
  {
   "cell_type": "code",
   "execution_count": 65,
   "metadata": {},
   "outputs": [
    {
     "data": {
      "text/plain": [
       "DEBTINC    AxesSubplot(0.125,0.125;0.775x0.755)\n",
       "dtype: object"
      ]
     },
     "execution_count": 65,
     "metadata": {},
     "output_type": "execute_result"
    },
    {
     "data": {
      "image/png": "[encoded data removed]",
      "text/plain": [
       "<Figure size 720x1080 with 1 Axes>"
      ]
     },
     "metadata": {
      "needs_background": "light"
     },
     "output_type": "display_data"
    }
   ],
   "source": [
    "df['DEBTINC'].plot.box(subplots=True, figsize=(10,15))"
   ]
  },
  {
   "cell_type": "code",
   "execution_count": 102,
   "metadata": {},
   "outputs": [],
   "source": [
    "zero = df['DEBTINC'] == 0.0"
   ]
  },
  {
   "cell_type": "code",
   "execution_count": 106,
   "metadata": {},
   "outputs": [
    {
     "name": "stderr",
     "output_type": "stream",
     "text": [
      "E:\\Anaconda\\lib\\site-packages\\ipykernel_launcher.py:1: UserWarning: Boolean Series key will be reindexed to match DataFrame index.\n",
      "  \"\"\"Entry point for launching an IPython kernel.\n"
     ]
    }
   ],
   "source": [
    "zero_row = df[zero]"
   ]
  },
  {
   "cell_type": "code",
   "execution_count": 105,
   "metadata": {},
   "outputs": [],
   "source": [
    "df.drop(zero_row.index, inplace=True)"
   ]
  },
  {
   "cell_type": "code",
   "execution_count": 66,
   "metadata": {},
   "outputs": [],
   "source": [
    "max_debtinc = df['DEBTINC'].max()"
   ]
  },
  {
   "cell_type": "code",
   "execution_count": 67,
   "metadata": {},
   "outputs": [
    {
     "data": {
      "text/plain": [
       "4537.512708409"
      ]
     },
     "execution_count": 67,
     "metadata": {},
     "output_type": "execute_result"
    }
   ],
   "source": [
    "max_debtinc"
   ]
  },
  {
   "cell_type": "code",
   "execution_count": 68,
   "metadata": {},
   "outputs": [],
   "source": [
    "#hapus dua outliers\n",
    "idx_max_debtinc = df[df['DEBTINC'] == max_debtinc].index"
   ]
  },
  {
   "cell_type": "code",
   "execution_count": 69,
   "metadata": {},
   "outputs": [
    {
     "data": {
      "text/plain": [
       "Int64Index([187], dtype='int64')"
      ]
     },
     "execution_count": 69,
     "metadata": {},
     "output_type": "execute_result"
    }
   ],
   "source": [
    "idx_max_debtinc"
   ]
  },
  {
   "cell_type": "code",
   "execution_count": 70,
   "metadata": {},
   "outputs": [
    {
     "data": {
      "text/plain": [
       "BAD              0\n",
       "LOAN          5000\n",
       "MORTDUE      80153\n",
       "VALUE        97275\n",
       "REASON     DebtCon\n",
       "JOB          Other\n",
       "YOJ              1\n",
       "DEROG            0\n",
       "DELINQ           0\n",
       "CLAGE      120.675\n",
       "NINQ             2\n",
       "CLNO            10\n",
       "DEBTINC    4537.51\n",
       "Name: 187, dtype: object"
      ]
     },
     "execution_count": 70,
     "metadata": {},
     "output_type": "execute_result"
    }
   ],
   "source": [
    "#melihat index ke-187\n",
    "df.iloc[187]"
   ]
  },
  {
   "cell_type": "code",
   "execution_count": 71,
   "metadata": {},
   "outputs": [],
   "source": [
    "df.drop(idx_max_debtinc, inplace=True)"
   ]
  },
  {
   "cell_type": "code",
   "execution_count": 72,
   "metadata": {},
   "outputs": [
    {
     "data": {
      "text/plain": [
       "BAD         1.506167\n",
       "LOAN        2.041782\n",
       "MORTDUE     1.901621\n",
       "VALUE       3.093327\n",
       "YOJ         0.989093\n",
       "DEROG       5.318703\n",
       "DELINQ      4.020307\n",
       "CLAGE       1.342545\n",
       "NINQ        2.621444\n",
       "CLNO        0.776144\n",
       "DEBTINC    61.637267\n",
       "dtype: float64"
      ]
     },
     "execution_count": 72,
     "metadata": {},
     "output_type": "execute_result"
    }
   ],
   "source": [
    "df.skew()"
   ]
  },
  {
   "cell_type": "code",
   "execution_count": 73,
   "metadata": {},
   "outputs": [
    {
     "data": {
      "text/plain": [
       "DEBTINC    AxesSubplot(0.125,0.125;0.775x0.755)\n",
       "dtype: object"
      ]
     },
     "execution_count": 73,
     "metadata": {},
     "output_type": "execute_result"
    },
    {
     "data": {
      "image/png": "[encoded data removed]",
      "text/plain": [
       "<Figure size 720x1080 with 1 Axes>"
      ]
     },
     "metadata": {
      "needs_background": "light"
     },
     "output_type": "display_data"
    }
   ],
   "source": [
    "df['DEBTINC'].plot.box(subplots=True, figsize=(10,15))"
   ]
  },
  {
   "cell_type": "code",
   "execution_count": 74,
   "metadata": {},
   "outputs": [],
   "source": [
    "max_debtinc2 = df['DEBTINC'].max()"
   ]
  },
  {
   "cell_type": "code",
   "execution_count": 75,
   "metadata": {},
   "outputs": [
    {
     "data": {
      "text/plain": [
       "2224.4788811910003"
      ]
     },
     "execution_count": 75,
     "metadata": {},
     "output_type": "execute_result"
    }
   ],
   "source": [
    "max_debtinc2"
   ]
  },
  {
   "cell_type": "code",
   "execution_count": 76,
   "metadata": {},
   "outputs": [],
   "source": [
    "idx_max_debtinc2 = df[df['DEBTINC'] == max_debtinc2].index"
   ]
  },
  {
   "cell_type": "code",
   "execution_count": 77,
   "metadata": {},
   "outputs": [
    {
     "data": {
      "text/plain": [
       "Int64Index([74], dtype='int64')"
      ]
     },
     "execution_count": 77,
     "metadata": {},
     "output_type": "execute_result"
    }
   ],
   "source": [
    "idx_max_debtinc2"
   ]
  },
  {
   "cell_type": "code",
   "execution_count": 78,
   "metadata": {},
   "outputs": [
    {
     "data": {
      "text/plain": [
       "BAD              1\n",
       "LOAN          3900\n",
       "MORTDUE      29896\n",
       "VALUE        45960\n",
       "REASON     HomeImp\n",
       "JOB          Other\n",
       "YOJ             11\n",
       "DEROG            0\n",
       "DELINQ           0\n",
       "CLAGE      146.123\n",
       "NINQ             0\n",
       "CLNO            14\n",
       "DEBTINC    2224.48\n",
       "Name: 74, dtype: object"
      ]
     },
     "execution_count": 78,
     "metadata": {},
     "output_type": "execute_result"
    }
   ],
   "source": [
    "#melihat index ke-74\n",
    "df.iloc[74]"
   ]
  },
  {
   "cell_type": "code",
   "execution_count": 79,
   "metadata": {},
   "outputs": [],
   "source": [
    "df.drop(idx_max_debtinc2, inplace=True)"
   ]
  },
  {
   "cell_type": "code",
   "execution_count": 80,
   "metadata": {},
   "outputs": [
    {
     "data": {
      "text/plain": [
       "BAD        1.507223\n",
       "LOAN       2.042213\n",
       "MORTDUE    1.901637\n",
       "VALUE      3.093476\n",
       "YOJ        0.989170\n",
       "DEROG      5.318167\n",
       "DELINQ     4.019901\n",
       "CLAGE      1.342283\n",
       "NINQ       2.621225\n",
       "CLNO       0.775870\n",
       "DEBTINC    2.743168\n",
       "dtype: float64"
      ]
     },
     "execution_count": 80,
     "metadata": {},
     "output_type": "execute_result"
    }
   ],
   "source": [
    "df.skew()"
   ]
  },
  {
   "cell_type": "code",
   "execution_count": 81,
   "metadata": {},
   "outputs": [
    {
     "data": {
      "text/plain": [
       "BAD           0\n",
       "LOAN          0\n",
       "MORTDUE       0\n",
       "VALUE         0\n",
       "REASON        0\n",
       "JOB           0\n",
       "YOJ         514\n",
       "DEROG       707\n",
       "DELINQ      579\n",
       "CLAGE       308\n",
       "NINQ        509\n",
       "CLNO        222\n",
       "DEBTINC    1264\n",
       "dtype: int64"
      ]
     },
     "execution_count": 81,
     "metadata": {},
     "output_type": "execute_result"
    }
   ],
   "source": [
    "df.isnull().sum()"
   ]
  },
  {
   "cell_type": "code",
   "execution_count": 82,
   "metadata": {},
   "outputs": [
    {
     "data": {
      "text/plain": [
       "DEBTINC    AxesSubplot(0.125,0.125;0.775x0.755)\n",
       "dtype: object"
      ]
     },
     "execution_count": 82,
     "metadata": {},
     "output_type": "execute_result"
    },
    {
     "data": {
      "image/png": "[encoded data removed]",
      "text/plain": [
       "<Figure size 720x1080 with 1 Axes>"
      ]
     },
     "metadata": {
      "needs_background": "light"
     },
     "output_type": "display_data"
    }
   ],
   "source": [
    "df['DEBTINC'].plot.box(subplots=True, figsize=(10,15))"
   ]
  },
  {
   "cell_type": "code",
   "execution_count": 83,
   "metadata": {},
   "outputs": [],
   "source": [
    "median_debtinc=df['DEBTINC'].median()"
   ]
  },
  {
   "cell_type": "code",
   "execution_count": 84,
   "metadata": {},
   "outputs": [
    {
     "data": {
      "text/plain": [
       "34.816959504"
      ]
     },
     "execution_count": 84,
     "metadata": {},
     "output_type": "execute_result"
    }
   ],
   "source": [
    "median_debtinc"
   ]
  },
  {
   "cell_type": "code",
   "execution_count": 85,
   "metadata": {},
   "outputs": [],
   "source": [
    "df['DEBTINC'] = df['DEBTINC'].fillna(value=median_debtinc)"
   ]
  },
  {
   "cell_type": "code",
   "execution_count": 86,
   "metadata": {},
   "outputs": [
    {
     "data": {
      "text/plain": [
       "BAD          0\n",
       "LOAN         0\n",
       "MORTDUE      0\n",
       "VALUE        0\n",
       "REASON       0\n",
       "JOB          0\n",
       "YOJ        514\n",
       "DEROG      707\n",
       "DELINQ     579\n",
       "CLAGE      308\n",
       "NINQ       509\n",
       "CLNO       222\n",
       "DEBTINC      0\n",
       "dtype: int64"
      ]
     },
     "execution_count": 86,
     "metadata": {},
     "output_type": "execute_result"
    }
   ],
   "source": [
    "df.isnull().sum()"
   ]
  },
  {
   "cell_type": "markdown",
   "metadata": {},
   "source": [
    "### **KOLOM YOJ**"
   ]
  },
  {
   "cell_type": "code",
   "execution_count": 87,
   "metadata": {},
   "outputs": [
    {
     "data": {
      "text/plain": [
       "YOJ    AxesSubplot(0.125,0.125;0.775x0.755)\n",
       "dtype: object"
      ]
     },
     "execution_count": 87,
     "metadata": {},
     "output_type": "execute_result"
    },
    {
     "data": {
      "image/png": "[encoded data removed]",
      "text/plain": [
       "<Figure size 720x1080 with 1 Axes>"
      ]
     },
     "metadata": {
      "needs_background": "light"
     },
     "output_type": "display_data"
    }
   ],
   "source": [
    "#outlier analysis\n",
    "df['YOJ'].plot.box(subplots=True, figsize=(10,15))"
   ]
  },
  {
   "cell_type": "code",
   "execution_count": 88,
   "metadata": {},
   "outputs": [],
   "source": [
    "mean_yoj=df['YOJ'].mean()"
   ]
  },
  {
   "cell_type": "code",
   "execution_count": 89,
   "metadata": {},
   "outputs": [
    {
     "data": {
      "text/plain": [
       "8.91930292440685"
      ]
     },
     "execution_count": 89,
     "metadata": {},
     "output_type": "execute_result"
    }
   ],
   "source": [
    "mean_yoj"
   ]
  },
  {
   "cell_type": "code",
   "execution_count": 93,
   "metadata": {},
   "outputs": [],
   "source": [
    "df['YOJ'] = df['YOJ'].fillna(value=mean_yoj)"
   ]
  },
  {
   "cell_type": "code",
   "execution_count": 94,
   "metadata": {},
   "outputs": [
    {
     "data": {
      "text/plain": [
       "BAD          0\n",
       "LOAN         0\n",
       "MORTDUE      0\n",
       "VALUE        0\n",
       "REASON       0\n",
       "JOB          0\n",
       "YOJ          0\n",
       "DEROG      707\n",
       "DELINQ     579\n",
       "CLAGE      308\n",
       "NINQ       509\n",
       "CLNO       222\n",
       "DEBTINC      0\n",
       "dtype: int64"
      ]
     },
     "execution_count": 94,
     "metadata": {},
     "output_type": "execute_result"
    }
   ],
   "source": [
    "df.isnull().sum()"
   ]
  },
  {
   "cell_type": "code",
   "execution_count": 112,
   "metadata": {},
   "outputs": [
    {
     "data": {
      "text/plain": [
       "8.919303     514\n",
       "0.000000     414\n",
       "1.000000     362\n",
       "2.000000     347\n",
       "5.000000     332\n",
       "4.000000     324\n",
       "6.000000     318\n",
       "3.000000     307\n",
       "9.000000     285\n",
       "10.000000    284\n",
       "8.000000     255\n",
       "7.000000     245\n",
       "11.000000    176\n",
       "13.000000    162\n",
       "12.000000    149\n",
       "15.000000    136\n",
       "14.000000    134\n",
       "16.000000    121\n",
       "19.000000     91\n",
       "18.000000     83\n",
       "20.000000     81\n",
       "17.000000     78\n",
       "23.000000     77\n",
       "24.000000     75\n",
       "21.000000     69\n",
       "22.000000     66\n",
       "25.000000     56\n",
       "26.000000     48\n",
       "27.000000     36\n",
       "28.000000     35\n",
       "            ... \n",
       "1.300000       2\n",
       "9.200000       1\n",
       "1.400000       1\n",
       "8.300000       1\n",
       "22.800000      1\n",
       "17.600000      1\n",
       "12.900000      1\n",
       "24.500000      1\n",
       "4.300000       1\n",
       "32.000000      1\n",
       "7.200000       1\n",
       "8.800000       1\n",
       "8.900000       1\n",
       "2.200000       1\n",
       "1.700000       1\n",
       "5.300000       1\n",
       "3.200000       1\n",
       "14.400000      1\n",
       "7.400000       1\n",
       "3.900000       1\n",
       "13.500000      1\n",
       "29.900000      1\n",
       "28.500000      1\n",
       "19.500000      1\n",
       "9.300000       1\n",
       "4.600000       1\n",
       "17.800000      1\n",
       "0.250000       1\n",
       "5.600000       1\n",
       "6.600000       1\n",
       "Name: YOJ, Length: 100, dtype: int64"
      ]
     },
     "execution_count": 112,
     "metadata": {},
     "output_type": "execute_result"
    }
   ],
   "source": [
    "df['YOJ'].value_counts()"
   ]
  },
  {
   "cell_type": "code",
   "execution_count": 110,
   "metadata": {},
   "outputs": [
    {
     "data": {
      "text/html": [
       "<div>\n",
       "<style scoped>\n",
       "    .dataframe tbody tr th:only-of-type {\n",
       "        vertical-align: middle;\n",
       "    }\n",
       "\n",
       "    .dataframe tbody tr th {\n",
       "        vertical-align: top;\n",
       "    }\n",
       "\n",
       "    .dataframe thead th {\n",
       "        text-align: right;\n",
       "    }\n",
       "</style>\n",
       "<table border=\"1\" class=\"dataframe\">\n",
       "  <thead>\n",
       "    <tr style=\"text-align: right;\">\n",
       "      <th></th>\n",
       "      <th>BAD</th>\n",
       "      <th>LOAN</th>\n",
       "      <th>MORTDUE</th>\n",
       "      <th>VALUE</th>\n",
       "      <th>REASON</th>\n",
       "      <th>JOB</th>\n",
       "      <th>YOJ</th>\n",
       "      <th>DEROG</th>\n",
       "      <th>DELINQ</th>\n",
       "      <th>CLAGE</th>\n",
       "      <th>NINQ</th>\n",
       "      <th>CLNO</th>\n",
       "      <th>DEBTINC</th>\n",
       "    </tr>\n",
       "  </thead>\n",
       "  <tbody>\n",
       "  </tbody>\n",
       "</table>\n",
       "</div>"
      ],
      "text/plain": [
       "Empty DataFrame\n",
       "Columns: [BAD, LOAN, MORTDUE, VALUE, REASON, JOB, YOJ, DEROG, DELINQ, CLAGE, NINQ, CLNO, DEBTINC]\n",
       "Index: []"
      ]
     },
     "execution_count": 110,
     "metadata": {},
     "output_type": "execute_result"
    }
   ],
   "source": []
  },
  {
   "cell_type": "markdown",
   "metadata": {},
   "source": [
    "### **KOLOM DEROG**"
   ]
  },
  {
   "cell_type": "code",
   "execution_count": 115,
   "metadata": {},
   "outputs": [],
   "source": [
    "mean_derog=df['DEROG'].mean()"
   ]
  },
  {
   "cell_type": "code",
   "execution_count": 96,
   "metadata": {},
   "outputs": [
    {
     "data": {
      "text/plain": [
       "0.2547673531655225"
      ]
     },
     "execution_count": 96,
     "metadata": {},
     "output_type": "execute_result"
    }
   ],
   "source": [
    "mean_derog"
   ]
  },
  {
   "cell_type": "code",
   "execution_count": 97,
   "metadata": {},
   "outputs": [],
   "source": [
    "df['DEROG'] = df['DEROG'].fillna(value=mean_derog)"
   ]
  },
  {
   "cell_type": "code",
   "execution_count": 98,
   "metadata": {},
   "outputs": [
    {
     "data": {
      "text/plain": [
       "BAD          0\n",
       "LOAN         0\n",
       "MORTDUE      0\n",
       "VALUE        0\n",
       "REASON       0\n",
       "JOB          0\n",
       "YOJ          0\n",
       "DEROG        0\n",
       "DELINQ     579\n",
       "CLAGE      308\n",
       "NINQ       509\n",
       "CLNO       222\n",
       "DEBTINC      0\n",
       "dtype: int64"
      ]
     },
     "execution_count": 98,
     "metadata": {},
     "output_type": "execute_result"
    }
   ],
   "source": [
    "df.isnull().sum()"
   ]
  },
  {
   "cell_type": "code",
   "execution_count": 113,
   "metadata": {},
   "outputs": [
    {
     "data": {
      "text/plain": [
       "0.000000     4519\n",
       "0.254767      707\n",
       "1.000000      434\n",
       "2.000000      160\n",
       "3.000000       58\n",
       "4.000000       23\n",
       "6.000000       15\n",
       "5.000000       15\n",
       "7.000000        8\n",
       "8.000000        6\n",
       "9.000000        3\n",
       "10.000000       2\n",
       "Name: DEROG, dtype: int64"
      ]
     },
     "execution_count": 113,
     "metadata": {},
     "output_type": "execute_result"
    }
   ],
   "source": [
    "df['DEROG'].value_counts()"
   ]
  },
  {
   "cell_type": "markdown",
   "metadata": {},
   "source": [
    "### **KOLOM DELINQ**"
   ]
  },
  {
   "cell_type": "code",
   "execution_count": 117,
   "metadata": {},
   "outputs": [],
   "source": [
    "mean_delinq=df['DELINQ'].mean()"
   ]
  },
  {
   "cell_type": "code",
   "execution_count": 118,
   "metadata": {},
   "outputs": [
    {
     "data": {
      "text/plain": [
       "0.4501954943213554"
      ]
     },
     "execution_count": 118,
     "metadata": {},
     "output_type": "execute_result"
    }
   ],
   "source": [
    "mean_delinq"
   ]
  },
  {
   "cell_type": "code",
   "execution_count": 119,
   "metadata": {},
   "outputs": [],
   "source": [
    "df['DELINQ'] = df['DELINQ'].fillna(value=mean_delinq)"
   ]
  },
  {
   "cell_type": "code",
   "execution_count": 120,
   "metadata": {},
   "outputs": [
    {
     "data": {
      "text/plain": [
       "BAD          0\n",
       "LOAN         0\n",
       "MORTDUE      0\n",
       "VALUE        0\n",
       "REASON       0\n",
       "JOB          0\n",
       "YOJ          0\n",
       "DEROG        0\n",
       "DELINQ       0\n",
       "CLAGE      308\n",
       "NINQ       509\n",
       "CLNO       222\n",
       "DEBTINC      0\n",
       "dtype: int64"
      ]
     },
     "execution_count": 120,
     "metadata": {},
     "output_type": "execute_result"
    }
   ],
   "source": [
    "df.isnull().sum()"
   ]
  },
  {
   "cell_type": "markdown",
   "metadata": {},
   "source": [
    "### **KOLOM CLAGE**"
   ]
  },
  {
   "cell_type": "code",
   "execution_count": 121,
   "metadata": {},
   "outputs": [
    {
     "data": {
      "text/plain": [
       "179.86086449310497"
      ]
     },
     "execution_count": 121,
     "metadata": {},
     "output_type": "execute_result"
    }
   ],
   "source": [
    "mean_clage=df['CLAGE'].mean()\n",
    "mean_clage"
   ]
  },
  {
   "cell_type": "code",
   "execution_count": 122,
   "metadata": {},
   "outputs": [],
   "source": [
    "df['CLAGE'] = df['CLAGE'].fillna(value=mean_clage)"
   ]
  },
  {
   "cell_type": "code",
   "execution_count": 123,
   "metadata": {},
   "outputs": [
    {
     "data": {
      "text/plain": [
       "BAD          0\n",
       "LOAN         0\n",
       "MORTDUE      0\n",
       "VALUE        0\n",
       "REASON       0\n",
       "JOB          0\n",
       "YOJ          0\n",
       "DEROG        0\n",
       "DELINQ       0\n",
       "CLAGE        0\n",
       "NINQ       509\n",
       "CLNO       222\n",
       "DEBTINC      0\n",
       "dtype: int64"
      ]
     },
     "execution_count": 123,
     "metadata": {},
     "output_type": "execute_result"
    }
   ],
   "source": [
    "df.isnull().sum()"
   ]
  },
  {
   "cell_type": "markdown",
   "metadata": {},
   "source": [
    "### **KOLOM NINQ**"
   ]
  },
  {
   "cell_type": "code",
   "execution_count": 124,
   "metadata": {},
   "outputs": [
    {
     "data": {
      "text/plain": [
       "1.1869141701893033"
      ]
     },
     "execution_count": 124,
     "metadata": {},
     "output_type": "execute_result"
    }
   ],
   "source": [
    "mean_ninq=df['NINQ'].mean()\n",
    "mean_ninq"
   ]
  },
  {
   "cell_type": "code",
   "execution_count": 125,
   "metadata": {},
   "outputs": [],
   "source": [
    "df['NINQ'] = df['NINQ'].fillna(value=mean_ninq)"
   ]
  },
  {
   "cell_type": "code",
   "execution_count": 126,
   "metadata": {},
   "outputs": [
    {
     "data": {
      "text/plain": [
       "BAD          0\n",
       "LOAN         0\n",
       "MORTDUE      0\n",
       "VALUE        0\n",
       "REASON       0\n",
       "JOB          0\n",
       "YOJ          0\n",
       "DEROG        0\n",
       "DELINQ       0\n",
       "CLAGE        0\n",
       "NINQ         0\n",
       "CLNO       222\n",
       "DEBTINC      0\n",
       "dtype: int64"
      ]
     },
     "execution_count": 126,
     "metadata": {},
     "output_type": "execute_result"
    }
   ],
   "source": [
    "df.isnull().sum()"
   ]
  },
  {
   "cell_type": "markdown",
   "metadata": {},
   "source": [
    "### **KOLOM CLNO**"
   ]
  },
  {
   "cell_type": "code",
   "execution_count": 127,
   "metadata": {},
   "outputs": [
    {
     "data": {
      "text/plain": [
       "21.29853351955307"
      ]
     },
     "execution_count": 127,
     "metadata": {},
     "output_type": "execute_result"
    }
   ],
   "source": [
    "mean_clno=df['CLNO'].mean()\n",
    "mean_clno"
   ]
  },
  {
   "cell_type": "code",
   "execution_count": 128,
   "metadata": {},
   "outputs": [],
   "source": [
    "df['CLNO'] = df['CLNO'].fillna(value=mean_clno)"
   ]
  },
  {
   "cell_type": "code",
   "execution_count": 129,
   "metadata": {},
   "outputs": [
    {
     "data": {
      "text/plain": [
       "BAD        0\n",
       "LOAN       0\n",
       "MORTDUE    0\n",
       "VALUE      0\n",
       "REASON     0\n",
       "JOB        0\n",
       "YOJ        0\n",
       "DEROG      0\n",
       "DELINQ     0\n",
       "CLAGE      0\n",
       "NINQ       0\n",
       "CLNO       0\n",
       "DEBTINC    0\n",
       "dtype: int64"
      ]
     },
     "execution_count": 129,
     "metadata": {},
     "output_type": "execute_result"
    }
   ],
   "source": [
    "df.isnull().sum()"
   ]
  },
  {
   "cell_type": "markdown",
   "metadata": {},
   "source": [
    "# **CEK LOAN, MORTDUE, DAN VALUE**"
   ]
  },
  {
   "cell_type": "markdown",
   "metadata": {},
   "source": [
    "### **LOAN**"
   ]
  },
  {
   "cell_type": "code",
   "execution_count": 130,
   "metadata": {},
   "outputs": [
    {
     "data": {
      "text/plain": [
       "0        1100\n",
       "1        1300\n",
       "2        1500\n",
       "3        1500\n",
       "4        1700\n",
       "5        1700\n",
       "6        1800\n",
       "7        1800\n",
       "8        2000\n",
       "9        2000\n",
       "10       2000\n",
       "11       2000\n",
       "12       2000\n",
       "13       2000\n",
       "14       2100\n",
       "15       2200\n",
       "16       2200\n",
       "17       2200\n",
       "18       2300\n",
       "19       2300\n",
       "20       2400\n",
       "21       2400\n",
       "22       2400\n",
       "23       2400\n",
       "24       2400\n",
       "25       2400\n",
       "26       2500\n",
       "27       2500\n",
       "28       2500\n",
       "29       2500\n",
       "        ...  \n",
       "5928    76500\n",
       "5929    77200\n",
       "5930    77400\n",
       "5931    78400\n",
       "5932    78700\n",
       "5933    79100\n",
       "5934    79200\n",
       "5935    79200\n",
       "5936    79900\n",
       "5937    80300\n",
       "5938    80600\n",
       "5939    81200\n",
       "5940    81400\n",
       "5941    81400\n",
       "5942    82200\n",
       "5943    82200\n",
       "5944    86000\n",
       "5945    87000\n",
       "5946    87500\n",
       "5947    88300\n",
       "5948    88500\n",
       "5949    88800\n",
       "5950    88900\n",
       "5951    88900\n",
       "5952    89000\n",
       "5953    89200\n",
       "5954    89800\n",
       "5955    89900\n",
       "5956    86000\n",
       "5957    23800\n",
       "Name: LOAN, Length: 5950, dtype: int64"
      ]
     },
     "execution_count": 130,
     "metadata": {},
     "output_type": "execute_result"
    }
   ],
   "source": [
    "df['LOAN']"
   ]
  },
  {
   "cell_type": "code",
   "execution_count": 131,
   "metadata": {},
   "outputs": [],
   "source": [
    "#kolom loan tidak perlu di-smooth"
   ]
  },
  {
   "cell_type": "markdown",
   "metadata": {},
   "source": [
    "### **MORTDUE**"
   ]
  },
  {
   "cell_type": "code",
   "execution_count": 132,
   "metadata": {},
   "outputs": [
    {
     "data": {
      "text/plain": [
       "73752.463896     518\n",
       "42000.000000      11\n",
       "47000.000000      10\n",
       "65000.000000       9\n",
       "124000.000000      7\n",
       "70000.000000       7\n",
       "45000.000000       7\n",
       "55000.000000       7\n",
       "50000.000000       7\n",
       "62000.000000       7\n",
       "54000.000000       6\n",
       "49000.000000       6\n",
       "44000.000000       6\n",
       "68000.000000       6\n",
       "58000.000000       6\n",
       "39000.000000       6\n",
       "94000.000000       5\n",
       "61000.000000       5\n",
       "86000.000000       5\n",
       "28000.000000       5\n",
       "48000.000000       5\n",
       "109000.000000      5\n",
       "36000.000000       5\n",
       "22000.000000       5\n",
       "41000.000000       5\n",
       "46000.000000       5\n",
       "31000.000000       5\n",
       "32000.000000       5\n",
       "111000.000000      5\n",
       "59000.000000       5\n",
       "                ... \n",
       "67686.000000       1\n",
       "96931.000000       1\n",
       "57900.000000       1\n",
       "127260.000000      1\n",
       "61477.000000       1\n",
       "113724.000000      1\n",
       "68135.000000       1\n",
       "64850.000000       1\n",
       "14212.000000       1\n",
       "51209.000000       1\n",
       "114590.000000      1\n",
       "75425.000000       1\n",
       "50039.000000       1\n",
       "132417.000000      1\n",
       "70300.000000       1\n",
       "73184.000000       1\n",
       "67524.000000       1\n",
       "65994.000000       1\n",
       "55643.000000       1\n",
       "90017.000000       1\n",
       "140770.000000      1\n",
       "126462.000000      1\n",
       "45391.000000       1\n",
       "120176.000000      1\n",
       "102228.000000      1\n",
       "96049.000000       1\n",
       "183615.000000      1\n",
       "52622.000000       1\n",
       "5000.000000        1\n",
       "4000.000000        1\n",
       "Name: MORTDUE, Length: 5044, dtype: int64"
      ]
     },
     "execution_count": 132,
     "metadata": {},
     "output_type": "execute_result"
    }
   ],
   "source": [
    "df['MORTDUE'].value_counts()"
   ]
  },
  {
   "cell_type": "markdown",
   "metadata": {},
   "source": [
    "## **Membulatkan DEROG, DELINQ, NINQ, dan CLNO**"
   ]
  },
  {
   "cell_type": "code",
   "execution_count": 133,
   "metadata": {},
   "outputs": [
    {
     "data": {
      "text/plain": [
       "0       0\n",
       "1       0\n",
       "2       0\n",
       "3       0\n",
       "4       0\n",
       "5       0\n",
       "6       3\n",
       "7       0\n",
       "8       0\n",
       "9       0\n",
       "10      0\n",
       "11      0\n",
       "12      0\n",
       "13      0\n",
       "14      0\n",
       "15      0\n",
       "16      2\n",
       "17      0\n",
       "18      0\n",
       "19      0\n",
       "20      1\n",
       "21      0\n",
       "22      0\n",
       "23      0\n",
       "24      0\n",
       "25      0\n",
       "26      0\n",
       "27      1\n",
       "28      0\n",
       "29      0\n",
       "       ..\n",
       "5928    0\n",
       "5929    1\n",
       "5930    0\n",
       "5931    0\n",
       "5932    0\n",
       "5933    0\n",
       "5934    0\n",
       "5935    0\n",
       "5936    0\n",
       "5937    0\n",
       "5938    0\n",
       "5939    0\n",
       "5940    0\n",
       "5941    0\n",
       "5942    0\n",
       "5943    0\n",
       "5944    0\n",
       "5945    0\n",
       "5946    0\n",
       "5947    0\n",
       "5948    0\n",
       "5949    0\n",
       "5950    0\n",
       "5951    0\n",
       "5952    0\n",
       "5953    0\n",
       "5954    0\n",
       "5955    0\n",
       "5956    0\n",
       "5957    0\n",
       "Name: DEROG, Length: 5950, dtype: int32"
      ]
     },
     "execution_count": 133,
     "metadata": {},
     "output_type": "execute_result"
    }
   ],
   "source": [
    "df['DEROG'].round(0).astype(int)"
   ]
  },
  {
   "cell_type": "code",
   "execution_count": 134,
   "metadata": {},
   "outputs": [
    {
     "data": {
      "text/plain": [
       "0       0\n",
       "1       2\n",
       "2       0\n",
       "3       0\n",
       "4       0\n",
       "5       0\n",
       "6       2\n",
       "7       0\n",
       "8       2\n",
       "9       0\n",
       "10      0\n",
       "11      1\n",
       "12      0\n",
       "13      0\n",
       "14      1\n",
       "15      1\n",
       "16      6\n",
       "17      0\n",
       "18      0\n",
       "19      1\n",
       "20      0\n",
       "21      0\n",
       "22      2\n",
       "23      0\n",
       "24      0\n",
       "25      0\n",
       "26      0\n",
       "27      2\n",
       "28      0\n",
       "29      0\n",
       "       ..\n",
       "5928    0\n",
       "5929    2\n",
       "5930    2\n",
       "5931    1\n",
       "5932    0\n",
       "5933    1\n",
       "5934    1\n",
       "5935    1\n",
       "5936    1\n",
       "5937    1\n",
       "5938    0\n",
       "5939    0\n",
       "5940    0\n",
       "5941    0\n",
       "5942    0\n",
       "5943    1\n",
       "5944    0\n",
       "5945    0\n",
       "5946    0\n",
       "5947    0\n",
       "5948    0\n",
       "5949    0\n",
       "5950    1\n",
       "5951    0\n",
       "5952    0\n",
       "5953    0\n",
       "5954    0\n",
       "5955    0\n",
       "5956    0\n",
       "5957    0\n",
       "Name: DELINQ, Length: 5950, dtype: int32"
      ]
     },
     "execution_count": 134,
     "metadata": {},
     "output_type": "execute_result"
    }
   ],
   "source": [
    "df['DELINQ'].round(0).astype(int)"
   ]
  },
  {
   "cell_type": "code",
   "execution_count": 135,
   "metadata": {},
   "outputs": [
    {
     "data": {
      "text/plain": [
       "0       1\n",
       "1       0\n",
       "2       1\n",
       "3       1\n",
       "4       0\n",
       "5       1\n",
       "6       1\n",
       "7       0\n",
       "8       1\n",
       "9       0\n",
       "10      1\n",
       "11      1\n",
       "12      2\n",
       "13      0\n",
       "14      0\n",
       "15      0\n",
       "16      1\n",
       "17      1\n",
       "18      0\n",
       "19      1\n",
       "20      1\n",
       "21      2\n",
       "22      0\n",
       "23      3\n",
       "24      1\n",
       "25      0\n",
       "26      1\n",
       "27      0\n",
       "28      0\n",
       "29      0\n",
       "       ..\n",
       "5928    0\n",
       "5929    3\n",
       "5930    3\n",
       "5931    0\n",
       "5932    0\n",
       "5933    0\n",
       "5934    0\n",
       "5935    0\n",
       "5936    0\n",
       "5937    0\n",
       "5938    0\n",
       "5939    0\n",
       "5940    0\n",
       "5941    0\n",
       "5942    0\n",
       "5943    0\n",
       "5944    0\n",
       "5945    0\n",
       "5946    0\n",
       "5947    0\n",
       "5948    0\n",
       "5949    0\n",
       "5950    0\n",
       "5951    0\n",
       "5952    0\n",
       "5953    0\n",
       "5954    0\n",
       "5955    0\n",
       "5956    0\n",
       "5957    2\n",
       "Name: NINQ, Length: 5950, dtype: int32"
      ]
     },
     "execution_count": 135,
     "metadata": {},
     "output_type": "execute_result"
    }
   ],
   "source": [
    "df['NINQ'].round(0).astype(int)"
   ]
  },
  {
   "cell_type": "code",
   "execution_count": 136,
   "metadata": {},
   "outputs": [
    {
     "data": {
      "text/plain": [
       "0        9\n",
       "1       14\n",
       "2       10\n",
       "3       21\n",
       "4       14\n",
       "5        8\n",
       "6       17\n",
       "7        8\n",
       "8       12\n",
       "9       13\n",
       "10      21\n",
       "11       9\n",
       "12      25\n",
       "13      24\n",
       "14      16\n",
       "15       8\n",
       "16      22\n",
       "17      21\n",
       "18      13\n",
       "19      14\n",
       "20       0\n",
       "21      22\n",
       "22      10\n",
       "23       4\n",
       "24      21\n",
       "25      13\n",
       "26      19\n",
       "27       9\n",
       "28      12\n",
       "29      12\n",
       "        ..\n",
       "5928    26\n",
       "5929    14\n",
       "5930    13\n",
       "5931    14\n",
       "5932    13\n",
       "5933    13\n",
       "5934    14\n",
       "5935    13\n",
       "5936    13\n",
       "5937    13\n",
       "5938    14\n",
       "5939    14\n",
       "5940    14\n",
       "5941    14\n",
       "5942    14\n",
       "5943    14\n",
       "5944    16\n",
       "5945    16\n",
       "5946    16\n",
       "5947    15\n",
       "5948    16\n",
       "5949    15\n",
       "5950    15\n",
       "5951    16\n",
       "5952    15\n",
       "5953    15\n",
       "5954    16\n",
       "5955    16\n",
       "5956    16\n",
       "5957    29\n",
       "Name: CLNO, Length: 5950, dtype: int32"
      ]
     },
     "execution_count": 136,
     "metadata": {},
     "output_type": "execute_result"
    }
   ],
   "source": [
    "df['CLNO'].round(0).astype(int)"
   ]
  },
  {
   "cell_type": "code",
   "execution_count": 138,
   "metadata": {},
   "outputs": [
    {
     "data": {
      "text/plain": [
       "0       10\n",
       "1        7\n",
       "2        4\n",
       "3        9\n",
       "4        3\n",
       "5        9\n",
       "6        5\n",
       "7       11\n",
       "8        3\n",
       "9       16\n",
       "10      18\n",
       "11      11\n",
       "12       3\n",
       "13       2\n",
       "14       8\n",
       "15       9\n",
       "16       7\n",
       "17      19\n",
       "18       2\n",
       "19       3\n",
       "20       5\n",
       "21      12\n",
       "22      22\n",
       "23       9\n",
       "24      12\n",
       "25       4\n",
       "26      18\n",
       "27      10\n",
       "28       9\n",
       "29       8\n",
       "        ..\n",
       "5928    12\n",
       "5929     8\n",
       "5930     9\n",
       "5931    27\n",
       "5932    25\n",
       "5933    25\n",
       "5934    26\n",
       "5935    28\n",
       "5936    27\n",
       "5937    27\n",
       "5938    28\n",
       "5939    28\n",
       "5940    25\n",
       "5941    26\n",
       "5942    26\n",
       "5943    26\n",
       "5944    15\n",
       "5945    14\n",
       "5946    15\n",
       "5947    16\n",
       "5948    16\n",
       "5949    16\n",
       "5950    15\n",
       "5951    16\n",
       "5952    16\n",
       "5953    15\n",
       "5954    14\n",
       "5955    15\n",
       "5956    15\n",
       "5957     7\n",
       "Name: YOJ, Length: 5950, dtype: int32"
      ]
     },
     "execution_count": 138,
     "metadata": {},
     "output_type": "execute_result"
    }
   ],
   "source": [
    "df['YOJ'].round(0).astype(int)"
   ]
  },
  {
   "cell_type": "code",
   "execution_count": null,
   "metadata": {},
   "outputs": [],
   "source": []
  }
 ],
 "metadata": {
  "kernelspec": {
   "display_name": "Python 3",
   "language": "python",
   "name": "python3"
  },
  "language_info": {
   "codemirror_mode": {
    "name": "ipython",
    "version": 3
   },
   "file_extension": ".py",
   "mimetype": "text/x-python",
   "name": "python",
   "nbconvert_exporter": "python",
   "pygments_lexer": "ipython3",
   "version": "3.7.3"
  }
 },
 "nbformat": 4,
 "nbformat_minor": 2
}
