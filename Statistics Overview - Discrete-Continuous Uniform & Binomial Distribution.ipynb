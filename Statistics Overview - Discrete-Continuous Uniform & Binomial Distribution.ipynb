{
 "cells": [
  {
   "cell_type": "markdown",
   "metadata": {},
   "source": [
    "## Discrete Uniform Distribution\n",
    "\n",
    "Discrete Uniform Distribution adalah istilah untuk menandakan bahwa setiap anggota di himpunan punya probabilitas yang sama.\n",
    "Contohnya adalah saat kita roll a dice, maka setiap angka punya probabilitas yang muncul 1/6"
   ]
  },
  {
   "cell_type": "markdown",
   "metadata": {},
   "source": [
    "Contoh dengan Python:"
   ]
  },
  {
   "cell_type": "code",
   "execution_count": 14,
   "metadata": {},
   "outputs": [],
   "source": [
    "# Import all the usual imports from the Python for Data Analysis and Visualization Course.\n",
    "import numpy as np\n",
    "from numpy.random import randn\n",
    "import pandas as pd\n",
    "from scipy import stats\n",
    "import matplotlib as mpl\n",
    "import matplotlib.pyplot as plt\n",
    "import seaborn as sns\n",
    "%matplotlib inline"
   ]
  },
  {
   "cell_type": "code",
   "execution_count": 3,
   "metadata": {},
   "outputs": [
    {
     "data": {
      "text/plain": [
       "Text(0.5, 1.0, 'Probability Mass Function for Dice Roll')"
      ]
     },
     "execution_count": 3,
     "metadata": {},
     "output_type": "execute_result"
    },
    {
     "data": {
      "image/png": "[encoded data removed]",
      "text/plain": [
       "<Figure size 432x288 with 1 Axes>"
      ]
     },
     "metadata": {
      "needs_background": "light"
     },
     "output_type": "display_data"
    }
   ],
   "source": [
    "#mencoba dengan melihat dadu\n",
    "roll_options = [1,2,3,4,5,6]\n",
    "\n",
    "#total probability space? \n",
    "#total probability space adalah total dari semua probability yang ada, seharusnya bernilai satu \n",
    "tprob = 1\n",
    "\n",
    "# Each roll has same odds of appearing (on a fair die at least)\n",
    "prob_roll = tprob / len(roll_options)\n",
    "\n",
    "# Plot using seaborn rugplot (note this is not really a rugplot), setting height equal to probability of roll\n",
    "uni_plot = sns.rugplot(roll_options,height=prob_roll,c='indianred')\n",
    "\n",
    "# Set Title\n",
    "uni_plot.set_title('Probability Mass Function for Dice Roll')"
   ]
  },
  {
   "cell_type": "code",
   "execution_count": 5,
   "metadata": {},
   "outputs": [
    {
     "name": "stdout",
     "output_type": "stream",
     "text": [
      "The mean is 3.5\n",
      "The variance is 2.9\n"
     ]
    }
   ],
   "source": [
    "#create discrete uniform distribution using scipy \n",
    "from scipy.stats import randint\n",
    "\n",
    "#set low and high boundaries of a dice \n",
    "#high 7 karena index dimulai dari 0\n",
    "#tapi kenapa low tidak 0? tidak dijelaskan oleh tutor \n",
    "low, high = 1,7\n",
    "\n",
    "#mencari mean dan variance \n",
    "mean, var = randint.stats(low,high)\n",
    "\n",
    "print(\"The mean is %2.1f\" % mean)\n",
    "print(\"The variance is %2.1f\" % var)"
   ]
  },
  {
   "cell_type": "code",
   "execution_count": 6,
   "metadata": {},
   "outputs": [
    {
     "data": {
      "text/plain": [
       "<BarContainer object of 6 artists>"
      ]
     },
     "execution_count": 6,
     "metadata": {},
     "output_type": "execute_result"
    },
    {
     "data": {
      "image/png": "[encoded data removed]",
      "text/plain": [
       "<Figure size 432x288 with 1 Axes>"
      ]
     },
     "metadata": {
      "needs_background": "light"
     },
     "output_type": "display_data"
    }
   ],
   "source": [
    "#melihat distribusi dalam bentuk barplot\n",
    "plt.bar(roll_options, randint.pmf(roll_options, low, high))"
   ]
  },
  {
   "cell_type": "markdown",
   "metadata": {},
   "source": [
    "### Discrete Uniform Distribution - Germant Tank Problem"
   ]
  },
  {
   "cell_type": "code",
   "execution_count": 1,
   "metadata": {},
   "outputs": [],
   "source": [
    "#Dokumentasi: https://en.wikipedia.org/wiki/German_tank_problem\n",
    "\n",
    "#RUMUS MENCARI POPULASI MAKSIMUM \n",
    "\n",
    "# POPULATION MAX = SAMPLE MAX + (SAMPLE MAX/SAMPLE SIZE) - 1"
   ]
  },
  {
   "cell_type": "markdown",
   "metadata": {},
   "source": [
    "#### Contoh: \n",
    "\n",
    "If we for instance captured 5 tanks with the serial numbers 3,7,11,16 then we know the max observed serial number was m=16. This is our sample max with a sample size of 5 tanks. Plugging into the MVUE results in:"
   ]
  },
  {
   "cell_type": "code",
   "execution_count": 4,
   "metadata": {},
   "outputs": [
    {
     "data": {
      "text/plain": [
       "19.0"
      ]
     },
     "execution_count": 4,
     "metadata": {},
     "output_type": "execute_result"
    }
   ],
   "source": [
    "#masih tidak mengerti kenapa sample size adalah 5, bukan seharusnya 4? \n",
    "#Untuk saat ini, saya menganggap bahwa contoh soal ini salah, oleh karena itu, saya memakai angka 4 untuk sample size\n",
    "\n",
    "#Soal ini didapatkan di dokumentasi jmportilla di nbviewer (https://nbviewer.jupyter.org/github/jmportilla/Statistics-Notes/blob/master/Discrete%20Uniform%20Distributions.ipynb)\n",
    "\n",
    "tank_estimate = 16 + (16/4) - 1\n",
    "tank_estimate"
   ]
  },
  {
   "cell_type": "code",
   "execution_count": 5,
   "metadata": {},
   "outputs": [
    {
     "data": {
      "text/plain": [
       "22.5"
      ]
     },
     "execution_count": 5,
     "metadata": {},
     "output_type": "execute_result"
    }
   ],
   "source": [
    "#UNTUK APPROACH SECARA BAYESIAN \n",
    "\n",
    "#Sebenarnya saya masih belum begitu mengerti terkait teori Bayes, cuma rumusnya adalah seperti ini: \n",
    "m=16\n",
    "#k merupakan sample size\n",
    "k=4\n",
    "\n",
    "tank_b_estimate = (m-1) * ((k-1) / (k-2))\n",
    "tank_b_estimate"
   ]
  },
  {
   "cell_type": "markdown",
   "metadata": {},
   "source": [
    "## Continuous Uniform Distribution"
   ]
  },
  {
   "cell_type": "code",
   "execution_count": 6,
   "metadata": {},
   "outputs": [],
   "source": [
    "#Probabilitas untuk Continuous Uniform Distribution: \n",
    "\n",
    "#Rumus: 1/(b-a) di mana b merupakan max dari range, sedangkan a merupakan min dari range \n",
    "\n",
    "#Mean: (a+b)/2\n",
    "\n",
    "#Variance: a^2 = (b-a)^2/12 "
   ]
  },
  {
   "cell_type": "markdown",
   "metadata": {},
   "source": [
    "#### Contoh: \n",
    "\n",
    "So what would an example problem look like? Let's say on average, a taxi ride in NYC takes 22 minutes. After taking some time measurements from experiments we gather that all the taxi rides are uniformly distributed between 19 and 27 minutes. What is the probability density function of a taxi ride, or f(x)?"
   ]
  },
  {
   "cell_type": "code",
   "execution_count": 7,
   "metadata": {},
   "outputs": [
    {
     "name": "stdout",
     "output_type": "stream",
     "text": [
      "probability density function results in 0.125\n"
     ]
    }
   ],
   "source": [
    "#Jawaban\n",
    "\n",
    "#Lower bound time \n",
    "a = 19 \n",
    "\n",
    "#Upper bound tie\n",
    "b = 27 \n",
    "\n",
    "#Probability density function \n",
    "fx = 1.0/(b-a)\n",
    "\n",
    "#show\n",
    "print('probability density function results in %1.3f' %fx)"
   ]
  },
  {
   "cell_type": "code",
   "execution_count": 10,
   "metadata": {},
   "outputs": [
    {
     "name": "stdout",
     "output_type": "stream",
     "text": [
      "the variance of the continuous uniform distribution is 5.3\n"
     ]
    }
   ],
   "source": [
    "#cek variance\n",
    "var = ((b-a)**2 )/12\n",
    "\n",
    "print('the variance of the continuous uniform distribution is %1.1f' %var)"
   ]
  },
  {
   "cell_type": "markdown",
   "metadata": {},
   "source": [
    "#### Soal lain: \n",
    "\n",
    "So let's ask the question, what's the probability that the taxi ride will last at least 25 minutes?"
   ]
  },
  {
   "cell_type": "code",
   "execution_count": null,
   "metadata": {},
   "outputs": [],
   "source": [
    "##### This is the same as the PDF of f(27) (the entire space) minus the probability space less than 25 minutes.\n",
    "\n",
    "#f(27)\n",
    "fx_1 = 27.0/(b-a)\n",
    "\n",
    "#f(25)\n",
    "fx_2 = 25.0/(b-a)\n",
    "\n",
    "#answer\n",
    "#answer ini merupakan range, dari lower bound yang merupakan f(25) dengan upper bound yang merupakan f(27)\n",
    "\n",
    "#sebenarnya masuk akal, karena kalau soal, misal at least dalam waktu lower bound time (19)\n",
    "#maka probabilitas di mana waktu range ada di antara 19 menit sampai 27 menit pasti 1\n",
    "#yang artinya waktu sampai pasti diantara 19-27 menit \n",
    "ans = fx_1 - fx_2\n",
    "\n",
    "#show\n",
    "print('The probability that the taxi will last at least 25 minutes is %2.1f%%' %(100*ans))"
   ]
  },
  {
   "cell_type": "code",
   "execution_count": 15,
   "metadata": {},
   "outputs": [
    {
     "data": {
      "text/plain": [
       "[<matplotlib.lines.Line2D at 0x15ae7992e48>]"
      ]
     },
     "execution_count": 15,
     "metadata": {},
     "output_type": "execute_result"
    },
    {
     "data": {
      "image/png": "[encoded data removed]",
      "text/plain": [
       "<Figure size 432x288 with 1 Axes>"
      ]
     },
     "metadata": {
      "needs_background": "light"
     },
     "output_type": "display_data"
    }
   ],
   "source": [
    "#doing Scipy secara automatis \n",
    "from scipy.stats import uniform\n",
    "import numpy as np\n",
    "\n",
    "A = 0\n",
    "B = 5\n",
    "\n",
    "# Set x as 100 linearly spaced points between A and B\n",
    "x = np.linspace(A,B,100)\n",
    "\n",
    "# Use uniform(loc=start point,scale=endpoint)\n",
    "rv = uniform(loc=A,scale=B)\n",
    "\n",
    "#Plot the PDF of that uniform distirbution\n",
    "plt.plot(x,rv.pdf(x))"
   ]
  },
  {
   "cell_type": "markdown",
   "metadata": {},
   "source": [
    "Note the above line is at 0.2, as we would expect since 1/(5-0) is 1/5 or 0.2."
   ]
  },
  {
   "cell_type": "code",
   "execution_count": 17,
   "metadata": {},
   "outputs": [
    {
     "data": {
      "text/plain": [
       "[<matplotlib.lines.Line2D at 0x15ae8a93f98>]"
      ]
     },
     "execution_count": 17,
     "metadata": {},
     "output_type": "execute_result"
    },
    {
     "data": {
      "image/png": "[encoded data removed]",
      "text/plain": [
       "<Figure size 432x288 with 1 Axes>"
      ]
     },
     "metadata": {
      "needs_background": "light"
     },
     "output_type": "display_data"
    }
   ],
   "source": [
    "#bagaimana kalau a dan b nya sama seperti soal? \n",
    "#doing Scipy secara automatis \n",
    "from scipy.stats import uniform\n",
    "import numpy as np\n",
    "\n",
    "A = 19\n",
    "B = 27\n",
    "\n",
    "# Set x as 100 linearly spaced points between A and B\n",
    "x = np.linspace(A,B,100)\n",
    "\n",
    "# Use uniform(loc=start point,scale=endpoint)\n",
    "rv = uniform(loc=A,scale=B)\n",
    "\n",
    "#Plot the PDF of that uniform distirbution\n",
    "plt.plot(x,rv.pdf(x))\n",
    "\n",
    "#jawabannya sangat berbeda dari hanya menggunakan kalkulasi "
   ]
  },
  {
   "cell_type": "markdown",
   "metadata": {},
   "source": [
    "That's it for Uniform Continuous Distributions. Here are some more resource for you:¶\n",
    "\n",
    "1.)http://en.wikipedia.org/wiki/Uniform_distribution_%28continuous%29\n",
    "\n",
    "2.)http://docs.scipy.org/doc/scipy/reference/generated/scipy.stats.uniform.html\n",
    "\n",
    "3.)http://mathworld.wolfram.com/UniformDistribution.html"
   ]
  },
  {
   "cell_type": "markdown",
   "metadata": {},
   "source": [
    "### Binomial Distribution"
   ]
  },
  {
   "cell_type": "code",
   "execution_count": 18,
   "metadata": {},
   "outputs": [],
   "source": [
    "#masih perlu mengerti perbedaan antara kombinasi dengan pengulangan dan kombinasi tanpa pengulangan"
   ]
  },
  {
   "cell_type": "code",
   "execution_count": 1,
   "metadata": {},
   "outputs": [],
   "source": [
    "#dokumentasi tutor mengenai binomial distribution: https://nbviewer.jupyter.org/github/jmportilla/Statistics-Notes/blob/master/Binomial%20Distribution.ipynb"
   ]
  },
  {
   "cell_type": "markdown",
   "metadata": {},
   "source": [
    "#### Soal: \n",
    "\n",
    "Example 1: Two players are playing basketball, player A and player B. Player A takes an average of 11 shots per game, and has an average success rate of 72%. Player B takes an average of 15 shots per game, but has an average success rate of 48%.\n",
    "\n",
    "Question 1: What's the probability that Player A makes 6 shots in an average game?\n",
    "\n",
    "Question 2: What's the probability that Player B makes 6 shots in an average game?"
   ]
  },
  {
   "cell_type": "code",
   "execution_count": 2,
   "metadata": {},
   "outputs": [],
   "source": [
    "#Rumus untuk mencari binomial distribution probability mass function ada di dokumentasi"
   ]
  },
  {
   "cell_type": "code",
   "execution_count": 5,
   "metadata": {},
   "outputs": [
    {
     "name": "stdout",
     "output_type": "stream",
     "text": [
      "The probability of player A making 6 shots in an average game is 11.1%\n",
      "\n",
      "\n",
      "The probability of player B making 6 shots in an average game is 17.0%\n"
     ]
    }
   ],
   "source": [
    "#Menjawab pertanyaan untuk Player A \n",
    "\n",
    "#Probability of succes player A\n",
    "p_A = .72\n",
    "\n",
    "#Number of shot for A\n",
    "n_A = 11\n",
    "\n",
    "#Make 6 shots success in average game \n",
    "k = 6 \n",
    "\n",
    "#Import scipy for combination \n",
    "#ADA PERBEDAAN DARI DI DOKUMENTASI\n",
    "#Di dokumentasi scipy.misc tapi katanya udah deprecated jadi pake scipy.special \n",
    "import scipy.special as sc\n",
    "\n",
    "#Set up C(n,k)\n",
    "comb_A = sc.comb(n_A,k)\n",
    "\n",
    "#masukkan ke dalam rumus binomial distribution \n",
    "answer_A = comb_A * (p_A ** k) * ((1-p_A)**(n_A-k))\n",
    "\n",
    "#dijadikan persen \n",
    "answer_A = 100*answer_A\n",
    "\n",
    "#repeat all step for B\n",
    "p_B = .48\n",
    "n_B = 15\n",
    "comb_B = sc.comb(n_B, k)\n",
    "answer_B = 100 * comb_B * (p_B ** k) * ((1-p_B)**(n_B-k))\n",
    "\n",
    "print('The probability of player A making 6 shots in an average game is %1.1f%%' %answer_A)\n",
    "print('\\n')\n",
    "print('The probability of player B making 6 shots in an average game is %1.1f%%' %answer_B)"
   ]
  },
  {
   "cell_type": "markdown",
   "metadata": {},
   "source": [
    "Terlihat bahwa meskipun A memiliki success rate yang lebih tinggi dari B (A = 72%, sementara B = 47%), probabilitas bahwa B menghasilkan 6 shots dalam sebuah game lebih tinggi dari A. Hal ini dikarenakan B juga dikarenakan B mengambil shots yang lebih banyak dari A (B shots 15, A shots 11)"
   ]
  },
  {
   "cell_type": "markdown",
   "metadata": {},
   "source": [
    "Tapi apa yang akan terjadi jikalau success shot-nya lebih tinggi, misal k=6? "
   ]
  },
  {
   "cell_type": "code",
   "execution_count": 14,
   "metadata": {},
   "outputs": [
    {
     "name": "stdout",
     "output_type": "stream",
     "text": [
      "The probability of player A making 9 shots in an average game is 22.4%\n",
      "\n",
      "\n",
      "The probability of player B making 9 shots in an average game is 13.4%\n"
     ]
    }
   ],
   "source": [
    "#Maka algoritmanya: \n",
    "\n",
    "k = 9\n",
    "\n",
    "comb_A = sc.comb(n_A,k)\n",
    "comb_B = sc.comb(n_B,k)\n",
    "\n",
    "answer_A = 100 * comb_A * (p_A ** k) * ((1-p_A)**(n_A-k))\n",
    "answer_B = 100 * comb_B * (p_B ** k) * ((1-p_B)**(n_B-k))\n",
    "\n",
    "#Jawaban w/o  didefinisikan kembali kombinasi: \n",
    "# Answer_A = 188.3% which is not make sense\n",
    "# Answer_B = 13.4% tepat seperti yang ada di kunci jawaban \n",
    "\n",
    "#Anehnya adalah kedua jawaban tidak satu suara, maksudnya seharusnya kalau A salah B juga salah, begitu juga sebaliknya\n",
    "#Kalau hal itu terjadi, setidaknya saya jadi tahu bahwa kalkulasinya memang salah \n",
    "\n",
    "#Saya ngerti sekarang\n",
    "#Ternyata memang kalkulasinya salah. Memang harus didefinisikan combination lagi\n",
    "#Karena kalau comb_A ataupun comb_B tidka didefinisikan, maka memakai rumus kombinasi yang lama, yaitu yang k=6 \n",
    "#Lalu kalau kalkulasinya salah, kenapa bisa probabilitas dari B benar? \n",
    "#Ternyata memang coincidence saja. Baik k=6 maupun k=9, sepertinya menghasilkan nilai kombinasi yang sama untuk B \n",
    "print('The probability of player A making 9 shots in an average game is %1.1f%%' %answer_A)\n",
    "print('\\n')\n",
    "print('The probability of player B making 9 shots in an average game is %1.1f%%' %answer_B)"
   ]
  },
  {
   "cell_type": "markdown",
   "metadata": {},
   "source": [
    "Jika melihat pada hasil di atas, terlihat bahwa level kemampuan player A sekarang (terlihat dari success rate), membuat player A lebih unggul jika menghasilkan success shot sebanyak 9 kali. \n",
    "\n",
    "Ingat: success shot 9 kali, bukan \"setidaknya\" success shot sebanyak 9 kali "
   ]
  },
  {
   "cell_type": "markdown",
   "metadata": {},
   "source": [
    "#### Investigate the mean and std of binomial distribution\n",
    "\n",
    "Untuk rumus jelas, ada di dokumentasi\n",
    "\n",
    "Mean disini merupakan rata-rata dari player dalam melakukan success shot "
   ]
  },
  {
   "cell_type": "code",
   "execution_count": 16,
   "metadata": {},
   "outputs": [
    {
     "name": "stdout",
     "output_type": "stream",
     "text": [
      "\n",
      "\n",
      "Player A will make an average of 8 +/- 1 success shots per game\n",
      "\n",
      "\n",
      "Player B will make an average of 7 +/- 2 success shots per game\n",
      "\n",
      "\n",
      "NOTE: It's impossible to make a decimal of a shot so '%1.0f' was used to replace the float!\n"
     ]
    }
   ],
   "source": [
    "#mean\n",
    "mu_A = n_A * p_A \n",
    "mu_B = n_B * p_B \n",
    "\n",
    "#standard deviation\n",
    "sigma_A = ( n_A * p_A * (1-p_A) )**0.5\n",
    "sigma_B = ( n_B * p_B * (1-p_B) )**0.5\n",
    "\n",
    "print('\\n')\n",
    "print('Player A will make an average of %1.0f +/- %1.0f success shots per game' %(mu_A, sigma_A))\n",
    "print('\\n')\n",
    "print('Player B will make an average of %1.0f +/- %1.0f success shots per game' %(mu_B, sigma_B))\n",
    "print('\\n')\n",
    "print(\"NOTE: It's impossible to make a decimal of a shot so '%1.0f' was used to replace the float!\")"
   ]
  },
  {
   "cell_type": "code",
   "execution_count": 31,
   "metadata": {},
   "outputs": [
    {
     "name": "stdout",
     "output_type": "stream",
     "text": [
      "<class 'tuple'>\n",
      "(array(7.92), array(2.2176))\n",
      "7.92\n",
      "1.4891608375189027\n"
     ]
    }
   ],
   "source": [
    "#Make binomial distribution secara automatis \n",
    "from scipy.stats import binom \n",
    "\n",
    "#memasukkan nilai n (total trial) dan nilai p (probabilitas success)\n",
    "\n",
    "#pendefinisian dua variabel\n",
    "#kalau kita mendefinisikan satu saja, misal: \n",
    "arr = binom.stats(n_A,p_A)\n",
    "#maka tipe data dari yang kita definisikan itu adalah tuple, \n",
    "print(type(arr))\n",
    "\n",
    "#yaitu tuple yang isinya adalah mean dan variance \n",
    "print(arr)\n",
    "\n",
    "#jika kita mendefinisikan dua-duanya, maka tuple tersebut terpisah dan menghasilkan nilai sendiri2 yang bertipe data array\n",
    "mean,var = binom.stats(n_A,p_A)\n",
    "\n",
    "print(mean)\n",
    "print(var**0.5)\n"
   ]
  },
  {
   "cell_type": "markdown",
   "metadata": {},
   "source": [
    "terlihat bahwa rata-rata dan std bisa diambil secara automatis dengan menggunakan scipy, meski yang kita ambil merupakan nilai yang tidak bulat"
   ]
  },
  {
   "cell_type": "code",
   "execution_count": 28,
   "metadata": {},
   "outputs": [
    {
     "name": "stdout",
     "output_type": "stream",
     "text": [
      "8.0\n",
      "1.0\n"
     ]
    }
   ],
   "source": [
    "#membuat nilai rata-rata dan mean menjadi nilai bulat: \n",
    "\n",
    "#tidak bisa menggunakan method round karena ternyata tipe dari mean dan var adalah ndarray dari numpy \n",
    "#oleh karena itu mau mencoba menggunakan method round dari numpy, yaitu around()\n",
    "import numpy as np\n",
    "\n",
    "print(np.around(mean))\n",
    "print(np.around(var**0.5))\n",
    "\n",
    "#berhasil"
   ]
  },
  {
   "cell_type": "markdown",
   "metadata": {},
   "source": [
    "#### Probabiliy Mass Function"
   ]
  },
  {
   "cell_type": "code",
   "execution_count": 32,
   "metadata": {},
   "outputs": [],
   "source": [
    "#Sejujurnya PDF merupakan rumus yang tidak begitu saya mengerti "
   ]
  },
  {
   "cell_type": "markdown",
   "metadata": {},
   "source": [
    "#### Contoh: \n",
    "\n",
    "Imagine you flip a fair coin. Your probability of getting a heads is p=0.5 (success in this example).\n",
    "So what does your probability mass function look like for 10 coin flips?"
   ]
  },
  {
   "cell_type": "code",
   "execution_count": 33,
   "metadata": {},
   "outputs": [],
   "source": [
    "#Meski demikian, ada dokumentasi yang menggambarkan pengertian dari PMF: \n",
    "# https://www.statisticshowto.com/probability-mass-function-pmf/"
   ]
  },
  {
   "cell_type": "code",
   "execution_count": 34,
   "metadata": {},
   "outputs": [
    {
     "data": {
      "text/plain": [
       "array([0.00097656, 0.00976563, 0.04394531, 0.1171875 , 0.20507813,\n",
       "       0.24609375, 0.20507813, 0.1171875 , 0.04394531, 0.00976563,\n",
       "       0.00097656])"
      ]
     },
     "execution_count": 34,
     "metadata": {},
     "output_type": "execute_result"
    }
   ],
   "source": [
    "#Jawaban dari soal: \n",
    "\n",
    "#n = 10 coin flips & p = 0.5 untuk tiap kalo coin flips \n",
    "n=10\n",
    "p=0.5\n",
    "\n",
    "#index starts with 0, jadi dibuat n+1\n",
    "# x digunakan untuk n success (berapa kali koin menampilkan gambar head)\n",
    "x = range(n+1)\n",
    "\n",
    "#membuat pmf secara automatis \n",
    "Y = binom.pmf(x,n,p)\n",
    "\n",
    "#show \n",
    "Y"
   ]
  },
  {
   "cell_type": "code",
   "execution_count": 36,
   "metadata": {},
   "outputs": [
    {
     "data": {
      "text/plain": [
       "Text(0, 0.5, 'Probability')"
      ]
     },
     "execution_count": 36,
     "metadata": {},
     "output_type": "execute_result"
    },
    {
     "data": {
      "image/png": "[encoded data removed]",
      "text/plain": [
       "<Figure size 432x288 with 1 Axes>"
      ]
     },
     "metadata": {
      "needs_background": "light"
     },
     "output_type": "display_data"
    }
   ],
   "source": [
    "import matplotlib.pyplot as plt\n",
    "\n",
    "#karena simple plot, jadi menggunakan matplotlib\n",
    "plt.plot(x,Y,'o')\n",
    "\n",
    "#Title (use y=1.08 to raise the long title a little more above the plot)\n",
    "plt.title('Binomial Distribution PMF: 10 coin Flips, Odds of Success for Heads is p=0.5',y=1.08)\n",
    "\n",
    "#Axis Titles\n",
    "plt.xlabel('Number of Heads')\n",
    "plt.ylabel('Probability')"
   ]
  },
  {
   "cell_type": "markdown",
   "metadata": {},
   "source": [
    "Terlihat bahwa probabilitas bahwa dari 10 percobaan mendapat 10 kali head, sangat kecil. Begitu pun tidka mendapatkan head sama sekali"
   ]
  },
  {
   "cell_type": "markdown",
   "metadata": {},
   "source": [
    "Dokumentasi lebih lanjut tentang binomial distribution:\n",
    "\n",
    "1.) http://en.wikipedia.org/wiki/Binomial_distribution\n",
    "\n",
    "2.) http://stattrek.com/probability-distributions/binomial.aspx\n",
    "\n",
    "3.) http://mathworld.wolfram.com/BinomialDistribution.html"
   ]
  },
  {
   "cell_type": "code",
   "execution_count": null,
   "metadata": {},
   "outputs": [],
   "source": []
  }
 ],
 "metadata": {
  "kernelspec": {
   "display_name": "Python 3",
   "language": "python",
   "name": "python3"
  },
  "language_info": {
   "codemirror_mode": {
    "name": "ipython",
    "version": 3
   },
   "file_extension": ".py",
   "mimetype": "text/x-python",
   "name": "python",
   "nbconvert_exporter": "python",
   "pygments_lexer": "ipython3",
   "version": "3.7.3"
  },
  "widgets": {
   "application/vnd.jupyter.widget-state+json": {
    "state": {},
    "version_major": 2,
    "version_minor": 0
   }
  }
 },
 "nbformat": 4,
 "nbformat_minor": 2
}
